{
  "nbformat": 4,
  "nbformat_minor": 0,
  "metadata": {
    "colab": {
      "provenance": []
    },
    "kernelspec": {
      "name": "python3",
      "display_name": "Python 3"
    },
    "language_info": {
      "name": "python"
    }
  },
  "cells": [
    {
      "cell_type": "markdown",
      "source": [
        "#Bài Tập Thực Hành"
      ],
      "metadata": {
        "id": "TUE1toEe-lv4"
      }
    },
    {
      "cell_type": "code",
      "execution_count": 1,
      "metadata": {
        "colab": {
          "base_uri": "https://localhost:8080/"
        },
        "id": "idBW5Li7NpBU",
        "outputId": "add5a8c2-c6fb-4e08-f1df-d8278776fe3b"
      },
      "outputs": [
        {
          "output_type": "stream",
          "name": "stdout",
          "text": [
            "\n",
            "dấu của hoán vị [2 1 3 4] là: -1\n",
            "\n",
            "tất cả các hoán vị của tập là: \n",
            "[(1, 2, 3), (1, 3, 2), (2, 1, 3), (2, 3, 1), (3, 1, 2), (3, 2, 1)]\n",
            "\n",
            "biểu thức định thức cấp 2:\n",
            " + a11a22 - a12a21\n",
            "\n",
            "biểu thức định thức cấp 3:\n",
            " + a11a22a33 - a11a23a32 - a12a21a33 + a12a23a31 + a13a21a32 - a13a22a31\n",
            "\n",
            "ma trận A:\n",
            "[[ 3  5 -8]\n",
            " [ 4 12 -1]\n",
            " [ 2  5  3]]\n",
            "\n",
            "giá trị định thức của A:\n",
            "85\n"
          ]
        }
      ],
      "source": [
        "# Võ Ngọc Duy - 2474802010071\n",
        "#Thực hành 1\n",
        "import numpy as np\n",
        "def sgn_by_def(sigma):\n",
        "    inversions = 0\n",
        "    for i in range(len(sigma) - 1):\n",
        "        for j in range(i + 1, len(sigma)):\n",
        "            if sigma[i] > sigma[j]:\n",
        "                inversions += 1\n",
        "    return (-1) ** inversions\n",
        "sigma = np.array([2, 1, 3, 4])\n",
        "print(\"\\ndấu của hoán vị\", sigma, \"là:\", sgn_by_def(sigma))\n",
        "\n",
        "from itertools import permutations\n",
        "n = 3\n",
        "X = []\n",
        "for i in range (1, n+1):\n",
        "    X.append(i)\n",
        "Sn = list(permutations(X))\n",
        "print(\"\\ntất cả các hoán vị của tập là: \")\n",
        "print (Sn)\n",
        "\n",
        "#Đoạn code 1:\n",
        "def phatsinh_dinhthuc(n):\n",
        "    x = list(range(1, n+1))\n",
        "    Sn = list(permutations(x))\n",
        "    dinhthuc = \"\"\n",
        "    for sn in Sn:\n",
        "        sigma = np.array(sn)\n",
        "        product = \"\"\n",
        "        for i in range(n):\n",
        "            product += \"a\" + str(i+1) + str(sn[i])\n",
        "        dau = sgn_by_def(sigma)\n",
        "        if dau == 1:\n",
        "            dinhthuc += \" + \" + product\n",
        "        else:\n",
        "            dinhthuc += \" - \" + product\n",
        "    return dinhthuc\n",
        "print(\"\\nbiểu thức định thức cấp 2:\")\n",
        "print(phatsinh_dinhthuc(2))\n",
        "print(\"\\nbiểu thức định thức cấp 3:\")\n",
        "print(phatsinh_dinhthuc(3))\n",
        "\n",
        "#Đoạn code 2:\n",
        "def tinhtoan_dinhthuc(A):\n",
        "    import math\n",
        "    n = int(math.sqrt(A.size))\n",
        "    x = list(range(1, n+1))\n",
        "    Sn = list(permutations(x))\n",
        "    dinhthuc = 0\n",
        "    for sn in Sn:\n",
        "        sigma = np.array(sn)\n",
        "        product = 1\n",
        "        for i in range(n):\n",
        "            product *= A[i][sn[i] - 1]\n",
        "        dau = sgn_by_def(sigma)\n",
        "        if dau == 1:\n",
        "            dinhthuc += product\n",
        "        else:\n",
        "            dinhthuc -= product\n",
        "    return dinhthuc\n",
        "matran = np.array([[3, 5, -8], [4, 12, -1], [2, 5, 3]])\n",
        "print(\"\\nma trận A:\")\n",
        "print(matran)\n",
        "print(\"\\ngiá trị định thức của A:\")\n",
        "print(tinhtoan_dinhthuc(matran))\n"
      ]
    },
    {
      "cell_type": "code",
      "source": [
        "#Thực hành 3\n",
        "#Hệ hai phương trình tuyến tính bậc 1:\n",
        "import numpy as np\n",
        "from scipy import linalg\n",
        "A = np.array([[4, -2], [3, -5]])\n",
        "A1 = np.array([[10, -2], [11, -5]])\n",
        "A2 = np.array([[4, 10], [3, 11]])\n",
        "detA = linalg.det(A)\n",
        "detA1 = linalg.det(A1)\n",
        "detA2 = linalg.det(A2)\n",
        "print(\"hệ 2 phương trình:\")\n",
        "print(\"detA =\", detA, \", detA1 =\", detA1, \", detA2 =\", detA2)\n",
        "if detA != 0:\n",
        "    x1 = detA1 / detA\n",
        "    x2 = detA2 / detA\n",
        "    print(\"nghiệm của hệ là: x1 =\", x1, \", x2 =\", x2)\n",
        "else:\n",
        "    print(\"hệ phương trình vô nghiệm hoặc vô số nghiệm\")\n",
        "\n",
        "#Hệ ba phương trình tuyến tính bậc 1:\n",
        "A = np.array([[-1, 2, -3], [2, -2, 1], [3, -4, 4]])\n",
        "B = np.array([1, 3, 2])\n",
        "AX = np.copy(A)\n",
        "AX[:, 0] = B\n",
        "AY = np.copy(A)\n",
        "AY[:, 1] = B\n",
        "AZ = np.copy(A)\n",
        "AZ[:, 2] = B\n",
        "def tinhtoan_dinhthuc(matrix):\n",
        "    return linalg.det(matrix)\n",
        "det = tinhtoan_dinhthuc(A)\n",
        "detX = tinhtoan_dinhthuc(AX)\n",
        "detY = tinhtoan_dinhthuc(AY)\n",
        "detZ = tinhtoan_dinhthuc(AZ)\n",
        "print(\"\\nhệ 3 phương trình:\")\n",
        "print(\"det =\", det, \", detX =\", detX, \", detY =\", detY, \", detZ =\", detZ)\n",
        "if det != 0:\n",
        "    x = detX/ det\n",
        "    y = detY/ det\n",
        "    z = detZ/ det\n",
        "    print(\"nghiệm của hệ là: x =\", x, \", y =\", y, \", z =\", z)\n",
        "else:\n",
        "    print(\"hệ phương trình vô nghiệm hoặc vô số nghiệm\")\n"
      ],
      "metadata": {
        "colab": {
          "base_uri": "https://localhost:8080/"
        },
        "id": "FKlcdgEH2t_I",
        "outputId": "039aab38-23ed-4d63-e366-f0b88c05c7b7"
      },
      "execution_count": 2,
      "outputs": [
        {
          "output_type": "stream",
          "name": "stdout",
          "text": [
            "hệ 2 phương trình:\n",
            "detA = -14.0 , detA1 = -28.0 , detA2 = 14.000000000000004\n",
            "nghiệm của hệ là: x1 = 2.0 , x2 = -1.0000000000000002\n",
            "\n",
            "hệ 3 phương trình:\n",
            "det = 0.0 , detX = 0.0 , detY = 0.0 , detZ = 0.0\n",
            "hệ phương trình vô nghiệm hoặc vô số nghiệm\n"
          ]
        }
      ]
    },
    {
      "cell_type": "code",
      "source": [
        "#Thực hành 4\n",
        "#Tính diện tích tam giác\n",
        "import sympy as sp\n",
        "TG = sp.Matrix([[1, 0, 1], [4, 3, 1], [2, 2, 1]])\n",
        "Stamgiac = 1/2 * TG.det()\n",
        "print(\"\\ndiện tích tam giác là:\", Stamgiac)\n",
        "\n",
        "#Ứng dụng 1: Tính diện tích đa giác gồm n điểm (xj, yj):\n",
        "def polygon_area(diem):\n",
        "    n = len(diem)\n",
        "    area = 0\n",
        "    for i in range(n):\n",
        "        x1, y1 = diem[i]\n",
        "        x2, y2 = diem[(i+1)%n]\n",
        "        area += (x1 * y2 - x2 * y1)\n",
        "    return abs(area) / 2\n",
        "diem = [(4,10), (9,7), (11,2), (2,2), (2,8)]\n",
        "print(\"\\ndiện tích đa giác là:\", polygon_area(diem))\n",
        "\n",
        "#Ứng dụng 2: Mở rộng bài toán tính diện tích thành thể tích hình tứ diện:\n",
        "from sympy import Matrix\n",
        "M = Matrix([[0, 4, 1, 1], [4, 0, 0, 1], [3, 5, 2, 1], [2, 2, 5, 1]])\n",
        "V = abs(1/6 * M.det())\n",
        "print(\"\\nthể tích tứ diện là:\", V)\n",
        "\n",
        "#Ứng dụng 3: Kiểm 4 điểm nằm trên một mặt phẳng trong không gian ba chiều\n",
        "M = Matrix([[0, 4, 1, 1], [4, 0, 0, 1], [3, 5, 2, 1], [2, 2, 5, 1]])\n",
        "if M.det() == 0:\n",
        "    print(\"\\n4 điểm đồng phẳng\")\n",
        "else:\n",
        "    print(\"\\n4 điểm không đồng phẳng\")\n",
        "\n",
        "#Ứng dụng 4: Phương trình mặt phẳng\n",
        "#Hãy viết phương trình mặt phẳng đi qua 3 điểm (-1, 3, 2), (0, 1, 0), (-2, 0, 1)\n",
        "from sympy import symbols\n",
        "x, y, z = symbols('x y z')\n",
        "MP = Matrix([[x, y, z, 1], [-1, 3, 2, 1], [0, 1, 0, 1], [-2, 0, 1, 1]])\n",
        "kq = MP.det()\n",
        "print(\"\\nphương trình mặt phẳng là:\", kq)\n"
      ],
      "metadata": {
        "colab": {
          "base_uri": "https://localhost:8080/"
        },
        "id": "TeNFYXMi6b0C",
        "outputId": "a7b7a081-1502-4aa4-d2f1-41fe5860004e"
      },
      "execution_count": 3,
      "outputs": [
        {
          "output_type": "stream",
          "name": "stdout",
          "text": [
            "\n",
            "diện tích tam giác là: 1.50000000000000\n",
            "\n",
            "diện tích đa giác là: 51.5\n",
            "\n",
            "thể tích tứ diện là: 12.0000000000000\n",
            "\n",
            "4 điểm không đồng phẳng\n",
            "\n",
            "phương trình mặt phẳng là: -4*x + 3*y - 5*z - 3\n"
          ]
        }
      ]
    },
    {
      "cell_type": "code",
      "source": [
        "#Thực hành 5\n",
        "import sympy as sp\n",
        "a, b, c, d, e, f = sp.symbols('a b c d e f')\n",
        "diem = [(1, 1), (2, 2), (3, 1), (2, 0), (1, 2)]\n",
        "equations = []\n",
        "for x, y in diem:\n",
        "    eq = a*x**2 + b*x*y + c*y**2 + d*x + e*y + f\n",
        "    equations.append(eq)\n",
        "solution = sp.solve([eq.subs(f, 1) for eq in equations], (a, b, c, d, e))\n",
        "if solution:\n",
        "    a_val = solution[a]\n",
        "    b_val = solution[b]\n",
        "    c_val = solution[c]\n",
        "    d_val = solution[d]\n",
        "    e_val = solution[e]\n",
        "    f_val = 1\n",
        "    x, y = sp.symbols('x y')\n",
        "    kq = a_val*x**2 + b_val*x*y + c_val*y**2 + d_val*x + e_val*y + f_val\n",
        "    print(\"phương trình ellipse là:\")\n",
        "    sp.pprint(sp.Eq(kq, 0))\n",
        "else:\n",
        "    print(\"không tìm được nghiệm hợp lệ\")\n"
      ],
      "metadata": {
        "colab": {
          "base_uri": "https://localhost:8080/"
        },
        "id": "bKAuaXWm62c7",
        "outputId": "334c7ef7-1400-497f-b45c-e8f42a258dc0"
      },
      "execution_count": 4,
      "outputs": [
        {
          "output_type": "stream",
          "name": "stdout",
          "text": [
            "phương trình ellipse là:\n",
            " 2                2              \n",
            "x    x⋅y   5⋅x   y    2⋅y        \n",
            "── + ─── - ─── + ── - ─── + 1 = 0\n",
            "6     6     6    6     3         \n"
          ]
        }
      ]
    },
    {
      "cell_type": "markdown",
      "source": [
        "#Bài Tập Về Nhà"
      ],
      "metadata": {
        "id": "paqsOQ2w--b-"
      }
    },
    {
      "cell_type": "code",
      "source": [
        "# Bài 1\n",
        "import sympy as sp\n",
        "n = int(input(\"nhập kích thước ma trận n: \"))\n",
        "A = sp.Matrix([list(map(float, input(f\"  hàng {i+1}: \").split())) for i in range(n)])\n",
        "print(\"\\nma trận A:\")\n",
        "sp.pprint(A)\n",
        "\n",
        "#a/ ma trận hệ số kép\n",
        "cofactor = sp.Matrix(\n",
        "    [ [ (-1)**(i+j) * A.minor_submatrix(i, j).det()  for j in range(n) ]\n",
        "      for i in range(n) ]\n",
        ")\n",
        "print(\"\\nMa trận hệ số kép:\")\n",
        "sp.pprint(cofactor)\n",
        "\n",
        "#b/ ma trận liên hợp\n",
        "adjoint = cofactor.T\n",
        "print(\"\\nMa trận liên hợp:\")\n",
        "sp.pprint(adjoint)\n"
      ],
      "metadata": {
        "colab": {
          "base_uri": "https://localhost:8080/"
        },
        "id": "ePPUt9NM_MC1",
        "outputId": "fca30b0b-3cdc-49d7-dbd4-5fd189e5d7ef"
      },
      "execution_count": 14,
      "outputs": [
        {
          "output_type": "stream",
          "name": "stdout",
          "text": [
            "Nhập kích thước ma trận n: 3\n",
            "  Hàng 1: 1 2 3\n",
            "  Hàng 2: 4 5 6\n",
            "  Hàng 3: 7 8 9\n",
            "\n",
            "Ma trận A:\n",
            "⎡1.0  2.0  3.0⎤\n",
            "⎢             ⎥\n",
            "⎢4.0  5.0  6.0⎥\n",
            "⎢             ⎥\n",
            "⎣7.0  8.0  9.0⎦\n",
            "\n",
            "Ma trận hệ số kép (Cofactor):\n",
            "⎡-3.0   6.0   -3.0⎤\n",
            "⎢                 ⎥\n",
            "⎢6.0   -12.0  6.0 ⎥\n",
            "⎢                 ⎥\n",
            "⎣-3.0   6.0   -3.0⎦\n",
            "\n",
            "Ma trận liên hợp (Adjoint):\n",
            "⎡-3.0   6.0   -3.0⎤\n",
            "⎢                 ⎥\n",
            "⎢6.0   -12.0  6.0 ⎥\n",
            "⎢                 ⎥\n",
            "⎣-3.0   6.0   -3.0⎦\n"
          ]
        }
      ]
    },
    {
      "cell_type": "code",
      "source": [
        "#Bài tập 2\n",
        "import sympy as sp\n",
        "print(nhập tọa độ 3 điểm (cách nhau bằng dấu cách):\")\n",
        "x1, y1 = map(float, input(\"điểm 1: \").split())\n",
        "x2, y2 = map(float, input(\"điểm 2: \").split())\n",
        "x3, y3 = map(float, input(\"điểm 3: \").split())\n",
        "x, y = sp.symbols('x y')\n",
        "D, E, Fsym = sp.symbols('D E F')\n",
        "sols = sp.solve([\n",
        "    x1**2 + y1**2 + D*x1 + E*y1 + Fsym,\n",
        "    x2**2 + y2**2 + D*x2 + E*y2 + Fsym,\n",
        "    x3**2 + y3**2 + D*x3 + E*y3 + Fsym\n",
        "], (D, E, Fsym), dict=True)\n",
        "sol = sols[0]\n",
        "\n",
        "#phương trình đường tròn\n",
        "eq_circle = x**2 + y**2 + sol[D]*x + sol[E]*y + sol[Fsym]\n",
        "print(\"\\nphương trình đường tròn:\")\n",
        "sp.pprint(sp.Eq(eq_circle, 0))\n",
        "\n",
        "#tính tâm và bán kính\n",
        "h = -sol[D]/2\n",
        "k = -sol[E]/2\n",
        "R = sp.sqrt(h**2 + k**2 - sol[Fsym])\n",
        "print(\"\\ntâm đường tròn O(h, k):\")\n",
        "sp.pprint((h, k))\n",
        "print(\"\\nbán kính R:\")\n",
        "sp.pprint(R)\n",
        "\n"
      ],
      "metadata": {
        "id": "YguJMBwyBh3q",
        "colab": {
          "base_uri": "https://localhost:8080/"
        },
        "outputId": "fd856576-0a6f-4180-94e7-0d4eda669e33"
      },
      "execution_count": 17,
      "outputs": [
        {
          "output_type": "stream",
          "name": "stdout",
          "text": [
            "Nhập tọa độ 3 điểm (cách nhau bằng dấu cách):\n",
            "Điểm 1: 0 0\n",
            "Điểm 2: 0 1\n",
            "Điểm 3: 1 0\n",
            "\n",
            "Phương trình đường tròn:\n",
            " 2            2            \n",
            "x  - 1.0⋅x + y  - 1.0⋅y = 0\n",
            "\n",
            "Tâm đường tròn O(h, k):\n",
            "(0.5, 0.5)\n",
            "\n",
            "Bán kính R:\n",
            "0.707106781186548\n"
          ]
        }
      ]
    }
  ]
}