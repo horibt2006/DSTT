{
  "nbformat": 4,
  "nbformat_minor": 0,
  "metadata": {
    "colab": {
      "provenance": []
    },
    "kernelspec": {
      "name": "python3",
      "display_name": "Python 3"
    },
    "language_info": {
      "name": "python"
    }
  },
  "cells": [
    {
      "cell_type": "markdown",
      "source": [
        "#Bài tập thực hành"
      ],
      "metadata": {
        "id": "TMWZMkGHMZEw"
      }
    },
    {
      "cell_type": "code",
      "source": [
        "#Thực hành 1\n",
        "#Bài tập 1\n",
        "import numpy as np\n",
        "u = np.array([2, -1.5, 0])\n",
        "v = np.array([4, 3, 1, -1])\n",
        "w = np.array([-6.2, 0, 3])\n",
        "\n",
        "u = np.array([2, -1.5, 0])\n",
        "v = np.array([4, 3, 1])\n",
        "w = np.array([-6.2, 0, 3])\n",
        "#a\n",
        "x_a = 2*u - (v + 3*w)\n",
        "print(\"Kết quả câu a (x):\", x_a)\n",
        "#b\n",
        "x_b = 0.5*(2*u - v - 3*w)\n",
        "print(\"Kết quả câu b (x):\", x_b)\n"
      ],
      "metadata": {
        "colab": {
          "base_uri": "https://localhost:8080/"
        },
        "id": "kDrgJEuMAn67",
        "outputId": "3c075380-bb46-4ef2-d630-d3e6b48268f9"
      },
      "execution_count": 1,
      "outputs": [
        {
          "output_type": "stream",
          "name": "stdout",
          "text": [
            "Kết quả câu a (x): [ 18.6  -6.  -10. ]\n",
            "Kết quả câu b (x): [ 9.3 -3.  -5. ]\n"
          ]
        }
      ]
    },
    {
      "cell_type": "code",
      "source": [
        "#Bài tập 2\n",
        "import numpy as np\n",
        "from numpy import linalg\n",
        "A = np.array([[0, -1, 3],\n",
        "              [1,  1, 1],\n",
        "              [4,  2, 2]])\n",
        "B = np.array([-1, -2, -2])\n",
        "X = np.linalg.solve(A, B)\n",
        "print(\"Giá trị a, b, c lần lượt là:\")\n",
        "print(\"a =\", X[0])\n",
        "print(\"b =\", X[1])\n",
        "print(\"c =\", X[2])\n"
      ],
      "metadata": {
        "colab": {
          "base_uri": "https://localhost:8080/"
        },
        "id": "_LkF8TYiBAak",
        "outputId": "cecc8286-da37-4e27-be58-18f9cef0c95e"
      },
      "execution_count": 2,
      "outputs": [
        {
          "output_type": "stream",
          "name": "stdout",
          "text": [
            "Giá trị a, b, c lần lượt là:\n",
            "a = 1.0\n",
            "b = -2.0\n",
            "c = -1.0\n"
          ]
        }
      ]
    },
    {
      "cell_type": "code",
      "source": [
        "#Bài tập 3\n",
        "import numpy as np\n",
        "from numpy import linalg as LA\n",
        "A = np.matrix([[1, 0], [0, 0]])\n",
        "B = np.matrix([[0, 0], [0, 1]])\n",
        "#Phương pháp 1\n",
        "try:\n",
        "    print(\"Nghịch đảo A:\", LA.inv(A))\n",
        "except np.linalg.LinAlgError:\n",
        "    print(\"A không khả nghịch (Singular Matrix)\")\n",
        "try:\n",
        "    print(\"Nghịch đảo B:\", LA.inv(B))\n",
        "except np.linalg.LinAlgError:\n",
        "    print(\"B không khả nghịch (Singular Matrix)\")\n",
        "\n",
        "try:\n",
        "    print(\"Nghịch đảo A + B:\", LA.inv(A + B))\n",
        "except np.linalg.LinAlgError:\n",
        "    print(\"A + B không khả nghịch (Singular Matrix)\")\n",
        "#Phương pháp 2\n",
        "print(\"Định thức A:\", LA.det(A))\n",
        "print(\"Định thức B:\", LA.det(B))\n",
        "print(\"Định thức A + B:\", LA.det(A + B))\n"
      ],
      "metadata": {
        "colab": {
          "base_uri": "https://localhost:8080/"
        },
        "id": "sf9XPmilBp7C",
        "outputId": "88e4456e-8bd0-4fe1-bdd9-7b9459125dfd"
      },
      "execution_count": 3,
      "outputs": [
        {
          "output_type": "stream",
          "name": "stdout",
          "text": [
            "A không khả nghịch (Singular Matrix)\n",
            "B không khả nghịch (Singular Matrix)\n",
            "Nghịch đảo A + B: [[1. 0.]\n",
            " [0. 1.]]\n",
            "Định thức A: 0.0\n",
            "Định thức B: 0.0\n",
            "Định thức A + B: 1.0\n"
          ]
        }
      ]
    },
    {
      "cell_type": "code",
      "source": [
        "#Bài tập 4\n",
        "import sympy as sp\n",
        "x, y = sp.symbols('x y')\n",
        "A = sp.Matrix([[x, y], [y, x]])\n",
        "print(\"A.T:\")\n",
        "print(A.T)\n",
        "print(\"A.T == A:\", A.T.equals(A))\n",
        "x1, y1 = sp.symbols('x1 y1')\n",
        "A1 = sp.Matrix([[x1, y1], [y1, x1]])\n",
        "x2, y2 = sp.symbols('x2 y2')\n",
        "A2 = sp.Matrix([[x2, y2], [y2, x2]])\n",
        "print(\"(A1 + A2).T:\")\n",
        "print((A1 + A2).T)\n",
        "print(\"Tổng có đối xứng không:\", ((A1 + A2).T).equals(A1 + A2))\n",
        "c = sp.symbols('c')\n",
        "print(\"c*A:\")\n",
        "print(c*A)\n",
        "print(\"c*A có đối xứng không:\", ((c*A).T).equals(c*A))\n"
      ],
      "metadata": {
        "colab": {
          "base_uri": "https://localhost:8080/"
        },
        "id": "ZYDsRW4LCMhw",
        "outputId": "eb372392-6c05-47d1-8324-b2b5734982b7"
      },
      "execution_count": 4,
      "outputs": [
        {
          "output_type": "stream",
          "name": "stdout",
          "text": [
            "A.T:\n",
            "Matrix([[x, y], [y, x]])\n",
            "A.T == A: True\n",
            "(A1 + A2).T:\n",
            "Matrix([[x1 + x2, y1 + y2], [y1 + y2, x1 + x2]])\n",
            "Tổng có đối xứng không: True\n",
            "c*A:\n",
            "Matrix([[c*x, c*y], [c*y, c*x]])\n",
            "c*A có đối xứng không: True\n"
          ]
        }
      ]
    },
    {
      "cell_type": "code",
      "source": [
        "#Bài tập 5\n",
        "import numpy as np\n",
        "from numpy.linalg import solve, LinAlgError\n",
        "v1 = np.array([1, 2, 3])\n",
        "v2 = np.array([0, 1, 2])\n",
        "v3 = np.array([-1, 0, 1])\n",
        "A = np.column_stack([v1, v2, v3])\n",
        "#câu a: w = (1, 1, 1)\n",
        "w1 = np.array([1, 1, 1])\n",
        "try:\n",
        "    c = solve(A, w1)\n",
        "    print(\"Vector (1,1,1) là tổ hợp tuyến tính của v1, v2, v3\")\n",
        "    print(\"Hệ số tổ hợp:\", c)\n",
        "except LinAlgError:\n",
        "    print(\"Vector (1,1,1) không là tổ hợp tuyến tính của v1, v2, v3\")\n",
        "#câu b: w = (1, -2, 2)\n",
        "w2 = np.array([1, -2, 2])\n",
        "try:\n",
        "    c = solve(A, w2)\n",
        "    print(\"Vector (1,-2,2) là tổ hợp tuyến tính của v1, v2, v3\")\n",
        "    print(\"Hệ số tổ hợp:\", c)\n",
        "except LinAlgError:\n",
        "    print(\"Vector (1,-2,2) không là tổ hợp tuyến tính của v1, v2, v3\")\n"
      ],
      "metadata": {
        "colab": {
          "base_uri": "https://localhost:8080/"
        },
        "id": "xFsFB7MGC9fx",
        "outputId": "4aee69cb-d5ed-460e-db90-c0af9cd5b7fd"
      },
      "execution_count": 6,
      "outputs": [
        {
          "output_type": "stream",
          "name": "stdout",
          "text": [
            "Vector (1,1,1) là tổ hợp tuyến tính của v1, v2, v3\n",
            "Hệ số tổ hợp: [ 5.00000000e-01 -1.66533454e-16 -5.00000000e-01]\n",
            "Vector (1,-2,2) là tổ hợp tuyến tính của v1, v2, v3\n",
            "Hệ số tổ hợp: [ 3.15251974e+16 -6.30503948e+16  3.15251974e+16]\n"
          ]
        }
      ]
    },
    {
      "cell_type": "code",
      "source": [
        "#Bài tập 6\n",
        "import sympy as sp\n",
        "c1, c2, c3 = sp.symbols('c1 c2 c3')\n",
        "result = sp.solve([c1 + 2*c3, 2*c1 + c2, 3*c1 + 2*c2 + c3], [c1, c2, c3])\n",
        "print(result)\n"
      ],
      "metadata": {
        "colab": {
          "base_uri": "https://localhost:8080/"
        },
        "id": "QRQ6-BLnD4CA",
        "outputId": "8c6b4d95-4f34-4c86-eaea-c5ca658ac03e"
      },
      "execution_count": 7,
      "outputs": [
        {
          "output_type": "stream",
          "name": "stdout",
          "text": [
            "{c1: 0, c2: 0, c3: 0}\n"
          ]
        }
      ]
    },
    {
      "cell_type": "code",
      "source": [
        "#Bài tập 7\n",
        "import sympy as sp\n",
        "c1, c2 = sp.symbols('c1 c2')\n",
        "u1, u2 = sp.symbols('u1 u2')\n",
        "giaiphapchung = sp.solve([c1 + c2 - u1, c1 - c2 - u2], [c1, c2])\n",
        "print(\"Nghiệm tổng quát:\")\n",
        "print(giaiphapchung)\n",
        "u1_val = 0\n",
        "u2_val = 0\n",
        "giaiphapcuthe = sp.solve([c1 + c2 - u1_val, c1 - c2 - u2_val], [c1, c2])\n",
        "print(\"\\nNghiệm khi u = (0, 0):\")\n",
        "print(giaiphapcuthe)\n"
      ],
      "metadata": {
        "colab": {
          "base_uri": "https://localhost:8080/"
        },
        "id": "mPoalA7SEF8b",
        "outputId": "c79d50fb-ea86-4189-f89f-475636d54c60"
      },
      "execution_count": 9,
      "outputs": [
        {
          "output_type": "stream",
          "name": "stdout",
          "text": [
            "Nghiệm tổng quát:\n",
            "{c1: u1/2 + u2/2, c2: u1/2 - u2/2}\n",
            "\n",
            "Nghiệm khi u = (0, 0):\n",
            "{c1: 0, c2: 0}\n"
          ]
        }
      ]
    },
    {
      "cell_type": "code",
      "source": [
        "#Thực hành 2.2\n",
        "import numpy as np\n",
        "\n",
        "# Tọa độ chữ F gốc\n",
        "P = np.array([[0,0,3,3,1,1,2,2,1,1],\n",
        "              [0,5,5,4,4,3,3,2,2,0]])\n",
        "#a\n",
        "vecdelta_a = np.array([4, 2])\n",
        "P_caua = (P + vecdelta_a[:, None]).T\n",
        "print(\"a\")\n",
        "print(P_caua)\n",
        "\n",
        "#b\n",
        "vecdelta_b = np.array([4, -2])\n",
        "matran_biendoi_b = np.array([[1.0, 0.0],\n",
        "                             [0.0, 2.0]])\n",
        "P_caub = (P.T @ matran_biendoi_b + vecdelta_b).T\n",
        "print(\"\\nnb\")\n",
        "print(P_caub)\n",
        "\n",
        "#c\n",
        "vecdelta_c = np.array([6, 1])\n",
        "matran_biendoi_c = np.array([[-1, 0],\n",
        "                             [0, 1]])\n",
        "P_cauc = (P.T @ matran_biendoi_c + vecdelta_c).T\n",
        "print(\"\\nc:\")\n",
        "print(P_cauc)\n",
        "\n",
        "# d\n",
        "vecdelta_d = np.array([0, 1])\n",
        "matran_biendoi_d = np.array([[1, 1],\n",
        "                             [1, 1]])\n",
        "P_caud = (P.T @ matran_biendoi_d + vecdelta_d).T\n",
        "print(\"\\nd:\")\n",
        "print(P_caud)"
      ],
      "metadata": {
        "colab": {
          "base_uri": "https://localhost:8080/"
        },
        "id": "LHiV50C5E3qI",
        "outputId": "e38de4de-efd8-4c83-9ddd-6284dd476421"
      },
      "execution_count": 10,
      "outputs": [
        {
          "output_type": "stream",
          "name": "stdout",
          "text": [
            "a\n",
            "[[4 2]\n",
            " [4 7]\n",
            " [7 7]\n",
            " [7 6]\n",
            " [5 6]\n",
            " [5 5]\n",
            " [6 5]\n",
            " [6 4]\n",
            " [5 4]\n",
            " [5 2]]\n",
            "\n",
            "nb\n",
            "[[ 4.  4.  7.  7.  5.  5.  6.  6.  5.  5.]\n",
            " [-2.  8.  8.  6.  6.  4.  4.  2.  2. -2.]]\n",
            "\n",
            "c:\n",
            "[[6 6 3 3 5 5 4 4 5 5]\n",
            " [1 6 6 5 5 4 4 3 3 1]]\n",
            "\n",
            "d:\n",
            "[[0 5 8 7 5 4 5 4 3 1]\n",
            " [1 6 9 8 6 5 6 5 4 2]]\n"
          ]
        }
      ]
    },
    {
      "cell_type": "code",
      "source": [
        "#Thực hành 3.1\n",
        "# Thực hành 3.1\n",
        "import sympy as sp\n",
        "from sympy import lambdify\n",
        "x1, x2, x3 = sp.symbols('x1 x2 x3')\n",
        "a, b, c = sp.symbols('a b c')\n",
        "d, e, f = sp.symbols('d e f')\n",
        "q = sp.symbols('q')\n",
        "bieuthuc1 = x1 - x2 + x3\n",
        "f1 = lambdify((x1, x2, x3), bieuthuc1, 'numpy')\n",
        "X = (a, b, c)\n",
        "Y = (d, e, f)\n",
        "X_plus_Y = (a + d, b + e, c + f)\n",
        "print(\"Kiểm tra tính cộng với f1:\")\n",
        "print(\"f1(X) + f1(Y) =\", f1(*X) + f1(*Y))\n",
        "print(\"f1(X + Y)     =\", f1(*X_plus_Y))\n",
        "print(\"=>\", f1(*X) + f1(*Y) == f1(*X_plus_Y))\n",
        "lhs1 = q * f1(*X) + f1(*Y)\n",
        "rhs1 = f1(q * a + d, q * b + e, q * c + f)\n",
        "print(\"\\nKiểm tra tính nhân vô hướng với f1:\")\n",
        "print(\"q*f1(X) + f1(Y) =\", lhs1)\n",
        "print(\"f1(q*X + Y)     =\", rhs1)\n",
        "print(\"=>\", sp.expand(lhs1) == sp.expand(rhs1))\n",
        "bieuthuc2 = 2 * x1 + 3 * x3\n",
        "f2 = lambdify((x1, x2, x3), bieuthuc2, 'numpy')\n",
        "lhs2 = q * f2(*X) + f2(*Y)\n",
        "rhs2 = f2(q * a + d, q * b + e, q * c + f)\n",
        "print(\"\\nKiểm tra với f2:\")\n",
        "print(\"q*f2(X) + f2(Y) =\", lhs2)\n",
        "print(\"f2(q*X + Y)     =\", rhs2)\n",
        "print(\"=>\", sp.expand(lhs2) == sp.expand(rhs2))"
      ],
      "metadata": {
        "colab": {
          "base_uri": "https://localhost:8080/"
        },
        "id": "hmtyDvYtHJEL",
        "outputId": "97b433b6-cc69-4519-a8ab-705471c685a8"
      },
      "execution_count": 12,
      "outputs": [
        {
          "output_type": "stream",
          "name": "stdout",
          "text": [
            "Kiểm tra tính cộng với f1:\n",
            "f1(X) + f1(Y) = a - b + c + d - e + f\n",
            "f1(X + Y)     = a - b + c + d - e + f\n",
            "=> True\n",
            "\n",
            "Kiểm tra tính nhân vô hướng với f1:\n",
            "q*f1(X) + f1(Y) = d - e + f + q*(a - b + c)\n",
            "f1(q*X + Y)     = a*q - b*q + c*q + d - e + f\n",
            "=> True\n",
            "\n",
            "Kiểm tra với f2:\n",
            "q*f2(X) + f2(Y) = 2*d + 3*f + q*(2*a + 3*c)\n",
            "f2(q*X + Y)     = 2*a*q + 3*c*q + 2*d + 3*f\n",
            "=> True\n"
          ]
        }
      ]
    },
    {
      "cell_type": "code",
      "source": [
        "#Thực hành 3.2\n",
        "import numpy as np\n",
        "u1 = np.array([1, 2])\n",
        "u2 = np.array([3, 5])\n",
        "target = np.array([4, 5])\n",
        "A = np.column_stack((u1, u2))\n",
        "b = target\n",
        "alpha_beta = np.linalg.solve(A, b)\n",
        "alpha, beta = alpha_beta\n",
        "print(f\"alpha = {alpha}, beta = {beta}\")\n",
        "f_u1 = np.array([1, 1, 2])\n",
        "f_u2 = np.array([4, 2, 1])\n",
        "f_target = alpha * f_u1 + beta * f_u2\n",
        "print(f\"f(4,5) = {f_target}\")"
      ],
      "metadata": {
        "colab": {
          "base_uri": "https://localhost:8080/"
        },
        "id": "pvaZ3aIPIObr",
        "outputId": "80863a71-7b3c-4b13-d3f3-9ee27ce51378"
      },
      "execution_count": 13,
      "outputs": [
        {
          "output_type": "stream",
          "name": "stdout",
          "text": [
            "alpha = -5.0, beta = 3.0\n",
            "f(4,5) = [ 7.  1. -7.]\n"
          ]
        }
      ]
    },
    {
      "cell_type": "code",
      "source": [
        "#Thực hành 3.3\n",
        "import sympy as sp\n",
        "x, y = sp.symbols('x y')\n",
        "a = -5*x + 3*y\n",
        "b = 2*x - y\n",
        "fu1 = sp.Matrix([1, 1, 2])\n",
        "fu2 = sp.Matrix([4, 2, 1])\n",
        "f_xy = a * fu1 + b * fu2\n",
        "print(f\"\\nf(x, y) = ({f_xy[0]}, {f_xy[1]}, {f_xy[2]})\")"
      ],
      "metadata": {
        "colab": {
          "base_uri": "https://localhost:8080/"
        },
        "id": "ws9VizJZI3BI",
        "outputId": "35ef0206-82b1-4ac6-e382-aa011853249c"
      },
      "execution_count": 17,
      "outputs": [
        {
          "output_type": "stream",
          "name": "stdout",
          "text": [
            "\n",
            "f(x, y) = (3*x - y, -x + y, -8*x + 5*y)\n"
          ]
        }
      ]
    },
    {
      "cell_type": "code",
      "source": [
        "#Thực hành 3.4\n",
        "import sympy as sp\n",
        "x1, x2, x3 = sp.symbols('x1 x2 x3')\n",
        "eq1 = x1 + x2 - x3\n",
        "eq2 = 2*x1 + 3*x2 - 3*x3\n",
        "eq3 = 3*x1 + 5*x2 - x3\n",
        "solution = sp.solve([eq1, eq2, eq3], [x1, x2, x3], dict=True)\n",
        "print(\"Nghiệm tổng quát của hệ phương trình:\")\n",
        "sp.pprint(solution)\n",
        "t = sp.symbols('t')\n",
        "x3_val = t\n",
        "x2_val = -t\n",
        "x1_val = 2*t\n",
        "ker_vector = sp.Matrix([x1_val, x2_val, x3_val])\n",
        "print(\"\\nMột cơ sở của Ker(f):\")\n",
        "sp.pprint(ker_vector)\n",
        "print(\"\\nKhông gian nhân của f là: Ker(f) = span({})\".format(ker_vector))"
      ],
      "metadata": {
        "colab": {
          "base_uri": "https://localhost:8080/"
        },
        "id": "DSQQorlXJwxG",
        "outputId": "0ef5dabc-041d-4c48-a21d-569df270bab5"
      },
      "execution_count": 19,
      "outputs": [
        {
          "output_type": "stream",
          "name": "stdout",
          "text": [
            "Nghiệm tổng quát của hệ phương trình:\n",
            "[{x₁: 0, x₂: 0, x₃: 0}]\n",
            "\n",
            "Một cơ sở của Ker(f):\n",
            "⎡2⋅t⎤\n",
            "⎢   ⎥\n",
            "⎢-t ⎥\n",
            "⎢   ⎥\n",
            "⎣ t ⎦\n",
            "\n",
            "Không gian nhân của f là: Ker(f) = span(Matrix([[2*t], [-t], [t]]))\n"
          ]
        }
      ]
    },
    {
      "cell_type": "code",
      "source": [
        "#Thực hành 3.5\n",
        "import sympy as sp\n",
        "x1, x2, x3 = sp.symbols('x1 x2 x3')\n",
        "def f(x1, x2, x3):\n",
        "    return sp.Matrix([\n",
        "        x1 + x2 - x3,\n",
        "        2*x1 + 3*x2 - 3*x3,\n",
        "        3*x1 + 5*x2 - x3\n",
        "    ])\n",
        "basis = [\n",
        "    (1, 0, 0),\n",
        "    (0, 1, 0),\n",
        "    (0, 0, 1)\n",
        "]\n",
        "images = [f(*vec) for vec in basis]\n",
        "print(\"Các vector f(u1), f(u2), f(u3):\")\n",
        "for i, v in enumerate(images, 1):\n",
        "    print(f\"f(u{i}) = \")\n",
        "    sp.pprint(v)\n",
        "    print()\n",
        "M = sp.Matrix.hstack(*images)\n",
        "image_basis = M.columnspace()\n",
        "print(\"Cơ sở của ảnh ánh xạ Imf là:\")\n",
        "for v in image_basis:\n",
        "    sp.pprint(v)"
      ],
      "metadata": {
        "colab": {
          "base_uri": "https://localhost:8080/"
        },
        "id": "YqUUPa6kKJ3D",
        "outputId": "57c40445-556b-4d7d-e8aa-a2278e4d5878"
      },
      "execution_count": 20,
      "outputs": [
        {
          "output_type": "stream",
          "name": "stdout",
          "text": [
            "Các vector f(u1), f(u2), f(u3):\n",
            "f(u1) = \n",
            "⎡1⎤\n",
            "⎢ ⎥\n",
            "⎢2⎥\n",
            "⎢ ⎥\n",
            "⎣3⎦\n",
            "\n",
            "f(u2) = \n",
            "⎡1⎤\n",
            "⎢ ⎥\n",
            "⎢3⎥\n",
            "⎢ ⎥\n",
            "⎣5⎦\n",
            "\n",
            "f(u3) = \n",
            "⎡-1⎤\n",
            "⎢  ⎥\n",
            "⎢-3⎥\n",
            "⎢  ⎥\n",
            "⎣-1⎦\n",
            "\n",
            "Cơ sở của ảnh ánh xạ Imf là:\n",
            "⎡1⎤\n",
            "⎢ ⎥\n",
            "⎢2⎥\n",
            "⎢ ⎥\n",
            "⎣3⎦\n",
            "⎡1⎤\n",
            "⎢ ⎥\n",
            "⎢3⎥\n",
            "⎢ ⎥\n",
            "⎣5⎦\n",
            "⎡-1⎤\n",
            "⎢  ⎥\n",
            "⎢-3⎥\n",
            "⎢  ⎥\n",
            "⎣-1⎦\n"
          ]
        }
      ]
    },
    {
      "cell_type": "code",
      "source": [
        "#Bài tập 3.6\n",
        "import sympy as sp\n",
        "x, y = sp.symbols('x y')\n",
        "def f(x, y):\n",
        "    return sp.Matrix([x - y, x])\n",
        "u1 = sp.Matrix([-1, 1])\n",
        "u2 = sp.Matrix([1, 0])\n",
        "v1 = sp.Matrix([1, 2])\n",
        "v2 = sp.Matrix([1, 3])\n",
        "F = sp.Matrix.hstack(v1, v2)\n",
        "fu1 = f(*u1)\n",
        "fu2 = f(*u2)\n",
        "a1, b1 = sp.symbols('a1 b1')\n",
        "a2, b2 = sp.symbols('a2 b2')\n",
        "sol1 = sp.linsolve([(a1 * v1 + b1 * v2)[i] - fu1[i] for i in range(2)], (a1, b1))\n",
        "sol2 = sp.linsolve([(a2 * v1 + b2 * v2)[i] - fu2[i] for i in range(2)], (a2, b2))\n",
        "[a1_val, b1_val] = list(sol1)[0]\n",
        "[a2_val, b2_val] = list(sol2)[0]\n",
        "A = sp.Matrix([[a1_val, a2_val], [b1_val, b2_val]])\n",
        "print(\"Ma trận ánh xạ tuyến tính A = [f]^F_B là:\")\n",
        "sp.pprint(A)"
      ],
      "metadata": {
        "colab": {
          "base_uri": "https://localhost:8080/"
        },
        "id": "SerTFJ3HKa5q",
        "outputId": "29635ee2-a6d9-415e-aff6-410f6897f21c"
      },
      "execution_count": 21,
      "outputs": [
        {
          "output_type": "stream",
          "name": "stdout",
          "text": [
            "Ma trận ánh xạ tuyến tính A = [f]^F_B là:\n",
            "⎡-5  2 ⎤\n",
            "⎢      ⎥\n",
            "⎣3   -1⎦\n"
          ]
        }
      ]
    },
    {
      "cell_type": "code",
      "source": [
        "#Thực hành 4\n",
        "import sympy as sp\n",
        "x, y, xp, yp = sp.symbols('x y x_p y_p')\n",
        "cos_theta = 1/sp.sqrt(2)\n",
        "sin_theta = 1/sp.sqrt(2)\n",
        "x_sub = cos_theta * xp - sin_theta * yp\n",
        "y_sub = sin_theta * xp + cos_theta * yp\n",
        "f = 5*x**2 - 6*x*y + 5*y**2 + 14*sp.sqrt(2)*x - 2*sp.sqrt(2)*y + 18\n",
        "f_rotated = f.subs({x: x_sub, y: y_sub})\n",
        "f_rotated = sp.simplify(f_rotated)\n",
        "print(\"Phương trình sau khi quay hệ trục:\")\n",
        "sp.pprint(f_rotated)"
      ],
      "metadata": {
        "colab": {
          "base_uri": "https://localhost:8080/"
        },
        "id": "gM_8vDKVLKXW",
        "outputId": "a4459206-ee5d-4793-8359-5e305c676c5a"
      },
      "execution_count": 22,
      "outputs": [
        {
          "output_type": "stream",
          "name": "stdout",
          "text": [
            "Phương trình sau khi quay hệ trục:\n",
            "    2               2             \n",
            "2⋅xₚ  + 12⋅xₚ + 8⋅yₚ  - 16⋅yₚ + 18\n"
          ]
        }
      ]
    },
    {
      "cell_type": "markdown",
      "source": [
        "#Bài tập về nhà"
      ],
      "metadata": {
        "id": "caxOdG8oMVvc"
      }
    },
    {
      "cell_type": "code",
      "source": [
        "#Bài tập 1\n",
        "import sympy as sp\n",
        "x, y, z = sp.symbols('x y z')\n",
        "a, b, c = sp.symbols('a b c')\n",
        "t = sp.Symbol('t')\n",
        "def g(v):\n",
        "    x, y, z = v\n",
        "    return sp.Matrix([x + y, z + 2, 0])\n",
        "u = sp.Matrix([x, y, z])\n",
        "v = sp.Matrix([a, b, c])\n",
        "left = g(u + v)\n",
        "right = g(u) + g(v)\n",
        "print(\"Kiểm tra g(u + v) == g(u) + g(v):\")\n",
        "print(\"g(u + v) =\", left)\n",
        "print(\"g(u) + g(v) =\", right)\n",
        "print(\"Kết quả:\", sp.simplify(left - right) == sp.Matrix([0,0,0]))\n",
        "left2 = g(t * u)\n",
        "right2 = t * g(u)\n",
        "print(\"\\nKiểm tra g(t*u) == t*g(u):\")\n",
        "print(\"g(t*u) =\", left2)\n",
        "print(\"t * g(u) =\", right2)\n",
        "print(\"Kết quả:\", sp.simplify(left2 - right2) == sp.Matrix([0,0,0]))\n",
        "zero = sp.Matrix([0, 0, 0])\n",
        "print(\"\\nKiểm tra g(0) == 0:\")\n",
        "print(\"g(0) =\", g(zero))"
      ],
      "metadata": {
        "colab": {
          "base_uri": "https://localhost:8080/"
        },
        "id": "KTAvd1E9MNAT",
        "outputId": "da2c6ba8-3c3a-498e-c814-f8ceb868a67f"
      },
      "execution_count": 23,
      "outputs": [
        {
          "output_type": "stream",
          "name": "stdout",
          "text": [
            "Kiểm tra g(u + v) == g(u) + g(v):\n",
            "g(u + v) = Matrix([[a + b + x + y], [c + z + 2], [0]])\n",
            "g(u) + g(v) = Matrix([[a + b + x + y], [c + z + 4], [0]])\n",
            "Kết quả: False\n",
            "\n",
            "Kiểm tra g(t*u) == t*g(u):\n",
            "g(t*u) = Matrix([[t*x + t*y], [t*z + 2], [0]])\n",
            "t * g(u) = Matrix([[t*(x + y)], [t*(z + 2)], [0]])\n",
            "Kết quả: False\n",
            "\n",
            "Kiểm tra g(0) == 0:\n",
            "g(0) = Matrix([[0], [2], [0]])\n"
          ]
        }
      ]
    },
    {
      "cell_type": "code",
      "source": [
        "#Bài tập 2\n",
        "import numpy as np\n",
        "A = np.array([[0, 1],\n",
        "              [1, -1]])\n",
        "F = np.array([[1, 2], [2, 3], [0, 1]])\n",
        "for point in F:\n",
        "    transformed = A @ point\n",
        "    print(f\"g({point}) = {transformed}\")\n"
      ],
      "metadata": {
        "colab": {
          "base_uri": "https://localhost:8080/"
        },
        "id": "vwHKhKYvMlEu",
        "outputId": "b949aeec-de55-450c-e006-e54fcc3ada6f"
      },
      "execution_count": 24,
      "outputs": [
        {
          "output_type": "stream",
          "name": "stdout",
          "text": [
            "g([1 2]) = [ 2 -1]\n",
            "g([2 3]) = [ 3 -1]\n",
            "g([0 1]) = [ 1 -1]\n"
          ]
        }
      ]
    },
    {
      "cell_type": "code",
      "source": [
        "#Bài tập 3\n",
        "import sympy as sp\n",
        "v1, v2, w1, w2, c = sp.symbols('v1 v2 w1 w2 c')\n",
        "v = sp.Matrix([v1, v2])\n",
        "w = sp.Matrix([w1, w2])\n",
        "def T(vec):\n",
        "    x, y = vec\n",
        "    return sp.Matrix([x - y, x + 2*y])\n",
        "left_add = T(v + w)\n",
        "right_add = T(v) + T(w)\n",
        "left_scalar = T(c * v)\n",
        "right_scalar = c * T(v)\n",
        "print(\"Tuyến tính cộng đúng:\", sp.simplify(left_add - right_add) == sp.Matrix([0, 0]))\n",
        "print(\"Tuyến tính nhân vô hướng đúng:\", sp.simplify(left_scalar - right_scalar) == sp.Matrix([0, 0]))"
      ],
      "metadata": {
        "id": "uAfNXLQrM6-B"
      },
      "execution_count": null,
      "outputs": []
    },
    {
      "cell_type": "code",
      "source": [
        "#Bài tập 4\n",
        "import sympy as sp\n",
        "A = sp.Matrix([[13, -5],\n",
        "               [-5, 13]])\n",
        "eigen_data = A.diagonalize(normalize=True)\n",
        "P = eigen_data[0]\n",
        "D = eigen_data[1]\n",
        "v1 = P[:, 0]\n",
        "cos_theta = v1[0]\n",
        "sin_theta = v1[1]\n",
        "theta = sp.atan2(sin_theta, cos_theta)*180/sp.pi\n",
        "print(\"Ma trận A:\")\n",
        "sp.pprint(A)\n",
        "print(\"\\nMa trận trực giao P (xoay hệ trục):\")\n",
        "sp.pprint(P)\n",
        "print(\"\\nMa trận đường chéo D (dạng chính tắc):\")\n",
        "sp.pprint(D)\n",
        "print(\"\\nGóc xoay θ để khử xy (độ):\")\n",
        "sp.pprint(sp.simplify(theta))"
      ],
      "metadata": {
        "colab": {
          "base_uri": "https://localhost:8080/"
        },
        "id": "S9LwINPHOYCJ",
        "outputId": "1b2e031c-8f09-465b-d304-67a732dea84d"
      },
      "execution_count": 25,
      "outputs": [
        {
          "output_type": "stream",
          "name": "stdout",
          "text": [
            "Ma trận A:\n",
            "⎡13  -5⎤\n",
            "⎢      ⎥\n",
            "⎣-5  13⎦\n",
            "\n",
            "Ma trận trực giao P (xoay hệ trục):\n",
            "⎡√2  -√2 ⎤\n",
            "⎢──  ────⎥\n",
            "⎢2    2  ⎥\n",
            "⎢        ⎥\n",
            "⎢√2   √2 ⎥\n",
            "⎢──   ── ⎥\n",
            "⎣2    2  ⎦\n",
            "\n",
            "Ma trận đường chéo D (dạng chính tắc):\n",
            "⎡8  0 ⎤\n",
            "⎢     ⎥\n",
            "⎣0  18⎦\n",
            "\n",
            "Góc xoay θ để khử xy (độ):\n",
            "45\n"
          ]
        }
      ]
    }
  ]
}