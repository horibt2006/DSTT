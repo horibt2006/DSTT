{
  "nbformat": 4,
  "nbformat_minor": 0,
  "metadata": {
    "colab": {
      "provenance": [],
      "collapsed_sections": [
        "z5YeUcRy9UD0"
      ]
    },
    "kernelspec": {
      "name": "python3",
      "display_name": "Python 3"
    },
    "language_info": {
      "name": "python"
    }
  },
  "cells": [
    {
      "cell_type": "markdown",
      "source": [
        "#BÀI TẬP CHƯƠNG 2"
      ],
      "metadata": {
        "id": "z5YeUcRy9UD0"
      }
    },
    {
      "cell_type": "code",
      "execution_count": 2,
      "metadata": {
        "colab": {
          "base_uri": "https://localhost:8080/"
        },
        "id": "ATgRQkXw1zwj",
        "outputId": "e3c05682-5cce-486a-9344-123b25f52fcb"
      },
      "outputs": [
        {
          "output_type": "stream",
          "name": "stdout",
          "text": [
            "scale(10, v): [30, 50, 70]\n",
            "sumvector(v, w): [5, 9, 13]\n",
            "dot(v, w): 68\n",
            "lenvector(v): 83\n"
          ]
        }
      ],
      "source": [
        "#Võ Ngọc Duy - 2474802010071\n",
        "#thực hành 1\n",
        "\n",
        "v = [3, 5, 7]\n",
        "w = [2, 4, 6]\n",
        "#hàm scalescale\n",
        "def scale(c, v):\n",
        "    return [c * vi for vi in v]\n",
        "print(\"scale(10, v):\", scale(10, v))\n",
        "#hàm cộng hai vector\n",
        "def sumvector(v, w):\n",
        "    return [vi + wi for vi, wi in zip(v, w)]\n",
        "print(\"sumvector(v, w):\", sumvector(v, w))\n",
        "#hàm nhân 2 vector vô hướng\n",
        "def dotvector(v, w):\n",
        "    return sum(vi * wi for vi, wi in zip(v, w))\n",
        "print(\"dot(v, w):\", dotvector(v, w))\n",
        "#hàm tính chiều dài\n",
        "def lenvector(v):\n",
        "    return dotvector(v, v)\n",
        "print(\"lenvector(v):\", lenvector(v))"
      ]
    },
    {
      "cell_type": "code",
      "source": [
        "#thực hành 2\n",
        "\n",
        "import numpy as np\n",
        "scores = np.array([-1, 1, 2, -3, 5, -4])\n",
        "phanloai2 = np.select(\n",
        "    [scores >= 0, scores < 0],\n",
        "    [\"so duong\", \"so am\"],\n",
        "    default = \"khong xac dinh\"\n",
        ")\n",
        "print(\"Phân loại 2 loại:\", phanloai2)\n",
        "scores = np.array([-1, 1, 2, 0, -3, 5, 0, -4])\n",
        "\n",
        "phanloai3 = np.select(\n",
        "    [scores > 0, scores == 0, scores < 0],\n",
        "    [\"so duong\", \"so 0\", \"so am\"],\n",
        "    default = \"khong xac dinh\"\n",
        ")\n",
        "print(\"Phân loại 3 loại:\", phanloai3)\n"
      ],
      "metadata": {
        "colab": {
          "base_uri": "https://localhost:8080/"
        },
        "id": "jPF1ZfBG3oFE",
        "outputId": "37a4502c-6f3d-41e7-d5e1-40ac196e0789"
      },
      "execution_count": 5,
      "outputs": [
        {
          "output_type": "stream",
          "name": "stdout",
          "text": [
            "Phân loại 2 loại: ['so am' 'so duong' 'so duong' 'so am' 'so duong' 'so am']\n",
            "Phân loại 3 loại: ['so am' 'so duong' 'so duong' 'so 0' 'so am' 'so duong' 'so 0' 'so am']\n"
          ]
        }
      ]
    },
    {
      "cell_type": "code",
      "source": [
        "#thực hành 2\n",
        "import numpy as np\n",
        "from scipy import linalg, sparse\n",
        "from sympy import symbols, solve\n",
        "\n",
        "D = np.asmatrix([[3, 4], [5, 6]])\n",
        "print(\"Ma trận D:\\n\", D, \"\\n\")\n",
        "\n",
        "C = np.asmatrix(np.random.random((5, 7)))\n",
        "print(\"Ma trận C:\\n\", C, \"\\n\")\n",
        "\n",
        "A = np.asmatrix(np.random.random((2, 2)))\n",
        "print(\"Ma trận A:\\n\", A, \"\\n\")\n",
        "\n",
        "b = np.array([(1+5j, 2j, 3j), (4, 5, 6)])\n",
        "B = np.asmatrix(b)\n",
        "print(\"Mảng b:\\n\", b, \"\\n\")\n",
        "print(\"Ma trận B (asmatrix):\\n\", B, \"\\n\")\n",
        "\n",
        "print(\"Ma trận chuyển vị A.T:\\n\", A.T, \"\\n\")\n",
        "print(\"Ma trận nghịch đảo A.I:\\n\", A.I, \"\\n\")\n",
        "print(\"Ma trận nghịch đảo bằng scipy:\\n\", linalg.inv(A), \"\\n\")\n",
        "\n",
        "M = np.array([[-1, 3, 2], [0, -2, 1], [1, 5, -2]])\n",
        "M_lower = np.tril(M)\n",
        "print(\"Ma trận tam giác dưới:\\n\", M_lower, \"\\n\")\n",
        "\n",
        "M_upper = np.triu(M)\n",
        "print(\"Ma trận tam giác trên:\\n\", M_upper, \"\\n\")\n",
        "\n",
        "v_diag = np.diag(M)\n",
        "print(\"Vector đường chéo:\\n\", v_diag, \"\\n\")\n",
        "\n",
        "M_diag = np.diag(v_diag)\n",
        "print(\"Ma trận từ vector đường chéo:\\n\", M_diag, \"\\n\")\n",
        "\n",
        "I2 = np.identity(2)\n",
        "print(\"Ma trận đơn vị I2:\\n\", I2, \"\\n\")\n",
        "\n",
        "x, y, z = symbols('x y z')\n",
        "eq1 = x**2 + 2 - 6\n",
        "eq2 = y - 1 - 6\n",
        "eq3 = x + z - 1\n",
        "eq4 = 2 * x - 8\n",
        "eq5 = z**2 + 4 - (y - z)\n",
        "\n",
        "result = solve([eq1, eq2, eq3, eq4, eq5], (x, y, z))\n",
        "print(\"Nghiệm tìm được (x, y, z):\", result, \"\\n\")\n",
        "\n",
        "x_list = [1, 2, 3]\n",
        "y_list = [1, 2, 3]\n",
        "print(\"So sánh danh sách x == y:\", all([x_list[i] == y_list[i] for i in range(len(x_list))]), \"\\n\")\n",
        "\n",
        "y_list2 = [1, 2, 4]\n",
        "print(\"So sánh danh sách x == y2:\", all([x_list[i] == y_list2[i] for i in range(len(x_list))]), \"\\n\")\n",
        "\n",
        "a1 = np.array([1, 2])\n",
        "a2 = np.array([1, 2])\n",
        "print(\"So sánh mảng a1 == a2:\", np.array_equal(a1, a2), \"\\n\")\n",
        "\n",
        "print(\"So sánh mảng trực tiếp:\", np.array_equal(np.array([1, 2]), np.array([1, 2])), \"\\n\")\n",
        "\n",
        "print(\"np.array_equiv(A, B): kiểm tra xem hai mảng có tương đương không (shape có thể khác)\\n\")\n",
        "print(\"np.allclose(A, B): kiểm tra xem hai mảng có gần bằng nhau không (với sai số nhỏ)\\n\")\n"
      ],
      "metadata": {
        "colab": {
          "base_uri": "https://localhost:8080/"
        },
        "id": "cCXQGs0C4soP",
        "outputId": "85d1ea06-03e3-446d-a842-c32d7eb1c87f"
      },
      "execution_count": 9,
      "outputs": [
        {
          "output_type": "stream",
          "name": "stdout",
          "text": [
            "Ma trận D:\n",
            " [[3 4]\n",
            " [5 6]] \n",
            "\n",
            "Ma trận C:\n",
            " [[0.0369688  0.94793784 0.12077711 0.8350452  0.77383677 0.17385346\n",
            "  0.12635712]\n",
            " [0.23449857 0.58508621 0.78851698 0.76277609 0.91499824 0.11281452\n",
            "  0.76620194]\n",
            " [0.54038216 0.06205558 0.33476458 0.90373361 0.25250904 0.53399234\n",
            "  0.69522853]\n",
            " [0.66289964 0.25716307 0.88922286 0.78000692 0.0394585  0.37707001\n",
            "  0.30946713]\n",
            " [0.62192317 0.43316529 0.17386958 0.18986979 0.24152194 0.95334818\n",
            "  0.00577419]] \n",
            "\n",
            "Ma trận A:\n",
            " [[0.02954114 0.08910602]\n",
            " [0.86272279 0.76148019]] \n",
            "\n",
            "Mảng b:\n",
            " [[1.+5.j 0.+2.j 0.+3.j]\n",
            " [4.+0.j 5.+0.j 6.+0.j]] \n",
            "\n",
            "Ma trận B (asmatrix):\n",
            " [[1.+5.j 0.+2.j 0.+3.j]\n",
            " [4.+0.j 5.+0.j 6.+0.j]] \n",
            "\n",
            "Ma trận chuyển vị A.T:\n",
            " [[0.02954114 0.86272279]\n",
            " [0.08910602 0.76148019]] \n",
            "\n",
            "Ma trận nghịch đảo A.I:\n",
            " [[-14.00325399   1.63861678]\n",
            " [ 15.86505664  -0.54324727]] \n",
            "\n",
            "Ma trận nghịch đảo bằng scipy:\n",
            " [[-14.00325399   1.63861678]\n",
            " [ 15.86505664  -0.54324727]] \n",
            "\n",
            "Ma trận tam giác dưới:\n",
            " [[-1  0  0]\n",
            " [ 0 -2  0]\n",
            " [ 1  5 -2]] \n",
            "\n",
            "Ma trận tam giác trên:\n",
            " [[-1  3  2]\n",
            " [ 0 -2  1]\n",
            " [ 0  0 -2]] \n",
            "\n",
            "Vector đường chéo:\n",
            " [-1 -2 -2] \n",
            "\n",
            "Ma trận từ vector đường chéo:\n",
            " [[-1  0  0]\n",
            " [ 0 -2  0]\n",
            " [ 0  0 -2]] \n",
            "\n",
            "Ma trận đơn vị I2:\n",
            " [[1. 0.]\n",
            " [0. 1.]] \n",
            "\n",
            "Nghiệm tìm được (x, y, z): [] \n",
            "\n",
            "So sánh danh sách x == y: True \n",
            "\n",
            "So sánh danh sách x == y2: False \n",
            "\n",
            "So sánh mảng a1 == a2: True \n",
            "\n",
            "So sánh mảng trực tiếp: True \n",
            "\n",
            "np.array_equiv(A, B): kiểm tra xem hai mảng có tương đương không (shape có thể khác)\n",
            "\n",
            "np.allclose(A, B): kiểm tra xem hai mảng có gần bằng nhau không (với sai số nhỏ)\n",
            "\n"
          ]
        }
      ]
    },
    {
      "cell_type": "code",
      "source": [
        "#thực hành 3,2\n",
        "\n",
        "import numpy as np\n",
        "A = np.reshape(np.arange(36.0), (6, 6))\n",
        "print(\"Ma trận A:\")\n",
        "print(A)\n",
        "\n",
        "I6 = np.identity(6)\n",
        "print(\"\\nMa trận đơn vị I6:\")\n",
        "print(I6)\n",
        "\n",
        "print(\"\\nSố phần tử trong A:\")\n",
        "print(A.size)\n",
        "\n",
        "print(\"\\nĐường chéo chính của A:\")\n",
        "print(np.matrix.diagonal(A))\n",
        "\n",
        "A = A + I6\n",
        "print(\"\\nMa trận A sau khi cộng với ma trận đơn vị I6:\")\n",
        "print(A)\n",
        "\n",
        "vecB = np.array([1., 2., 3., 4., 5., 6.])\n",
        "C = A.dot(vecB)\n",
        "print(\"\\nTích A nhân với vecB:\")\n",
        "print(C)\n",
        "\n",
        "D = np.array([[1., 2., 3., 4., 5., 6.], [1., 0., 1., 0., 1., 0.]])\n",
        "print(\"\\nMa trận D:\")\n",
        "print(D)\n",
        "\n",
        "\n",
        "E = A.dot(D.T)\n",
        "print(\"\\nTích A x D.T:\")\n",
        "print(E)\n",
        "\n",
        "F = np.array([[1., 1.], [2., 0.], [3., 1.], [4., 0.], [5., 1.], [6., 0.]])\n",
        "print(\"\\nMa trận F:\")\n",
        "print(F)\n",
        "\n",
        "G = A.dot(F)\n",
        "print(\"\\nTích A x F:\")\n",
        "print(G)\n",
        "\n",
        "#tính ma trận nghịch đảo của A\n",
        "A_inv = np.linalg.inv(A)\n",
        "print(\"\\nMa trận nghịch đảo của A:\")\n",
        "print(A_inv)\n",
        "\n",
        "#tính ma trận nghịch đảo của ma trận nghịch đảo của A\n",
        "A_inv_inv = np.linalg.inv(np.linalg.inv(A))\n",
        "print(\"\\nKết quả của np.linalg.inv(np.linalg.inv(A)):\")\n",
        "print(A_inv_inv)\n",
        "\n",
        "print(\"\\nSo sánh A với nghịch đảo của nghịch đảo A (gần đúng):\")\n",
        "print(np.allclose(A, A_inv_inv))\n"
      ],
      "metadata": {
        "colab": {
          "base_uri": "https://localhost:8080/"
        },
        "id": "gxOOg2zt5iIU",
        "outputId": "553230ee-e537-474c-a054-a02eb3776d66"
      },
      "execution_count": 8,
      "outputs": [
        {
          "output_type": "stream",
          "name": "stdout",
          "text": [
            "Ma trận A:\n",
            "[[ 0.  1.  2.  3.  4.  5.]\n",
            " [ 6.  7.  8.  9. 10. 11.]\n",
            " [12. 13. 14. 15. 16. 17.]\n",
            " [18. 19. 20. 21. 22. 23.]\n",
            " [24. 25. 26. 27. 28. 29.]\n",
            " [30. 31. 32. 33. 34. 35.]]\n",
            "\n",
            "Ma trận đơn vị I6:\n",
            "[[1. 0. 0. 0. 0. 0.]\n",
            " [0. 1. 0. 0. 0. 0.]\n",
            " [0. 0. 1. 0. 0. 0.]\n",
            " [0. 0. 0. 1. 0. 0.]\n",
            " [0. 0. 0. 0. 1. 0.]\n",
            " [0. 0. 0. 0. 0. 1.]]\n",
            "\n",
            "Số phần tử trong A:\n",
            "36\n",
            "\n",
            "Đường chéo chính của A:\n",
            "[ 0.  7. 14. 21. 28. 35.]\n",
            "\n",
            "Ma trận A sau khi cộng với ma trận đơn vị I6:\n",
            "[[ 1.  1.  2.  3.  4.  5.]\n",
            " [ 6.  8.  8.  9. 10. 11.]\n",
            " [12. 13. 15. 15. 16. 17.]\n",
            " [18. 19. 20. 22. 22. 23.]\n",
            " [24. 25. 26. 27. 29. 29.]\n",
            " [30. 31. 32. 33. 34. 36.]]\n",
            "\n",
            "Tích A nhân với vecB:\n",
            "[ 71. 198. 325. 452. 579. 706.]\n",
            "\n",
            "Ma trận D:\n",
            "[[1. 2. 3. 4. 5. 6.]\n",
            " [1. 0. 1. 0. 1. 0.]]\n",
            "\n",
            "Tích A x D.T:\n",
            "[[ 71.   7.]\n",
            " [198.  24.]\n",
            " [325.  43.]\n",
            " [452.  60.]\n",
            " [579.  79.]\n",
            " [706.  96.]]\n",
            "\n",
            "Ma trận F:\n",
            "[[1. 1.]\n",
            " [2. 0.]\n",
            " [3. 1.]\n",
            " [4. 0.]\n",
            " [5. 1.]\n",
            " [6. 0.]]\n",
            "\n",
            "Tích A x F:\n",
            "[[ 71.   7.]\n",
            " [198.  24.]\n",
            " [325.  43.]\n",
            " [452.  60.]\n",
            " [579.  79.]\n",
            " [706.  96.]]\n",
            "\n",
            "Ma trận nghịch đảo của A:\n",
            "[[ 0.37022901 -0.45610687 -0.28244275 -0.10877863  0.0648855   0.23854962]\n",
            " [-0.44656489  0.65839695 -0.23664122 -0.13167939 -0.02671756  0.07824427]\n",
            " [-0.26335878 -0.22709924  0.80916031 -0.15458015 -0.11832061 -0.08206107]\n",
            " [-0.08015267 -0.11259542 -0.14503817  0.82251908 -0.20992366 -0.24236641]\n",
            " [ 0.10305344  0.0019084  -0.09923664 -0.20038168  0.69847328 -0.40267176]\n",
            " [ 0.28625954  0.11641221 -0.05343511 -0.22328244 -0.39312977  0.4370229 ]]\n",
            "\n",
            "Kết quả của np.linalg.inv(np.linalg.inv(A)):\n",
            "[[ 1.  1.  2.  3.  4.  5.]\n",
            " [ 6.  8.  8.  9. 10. 11.]\n",
            " [12. 13. 15. 15. 16. 17.]\n",
            " [18. 19. 20. 22. 22. 23.]\n",
            " [24. 25. 26. 27. 29. 29.]\n",
            " [30. 31. 32. 33. 34. 36.]]\n",
            "\n",
            "So sánh A với nghịch đảo của nghịch đảo A (gần đúng):\n",
            "True\n"
          ]
        }
      ]
    },
    {
      "cell_type": "code",
      "source": [
        "#thực hành 4\n",
        "import numpy as np\n",
        "A = np.array([[1, 1], [1, 0]])\n",
        "b = np.array([1, 0])\n",
        "n = 10\n",
        "print(\"các số Fibonacci đầu tiên:\")\n",
        "print(f\"F0 = {b[1]}\")\n",
        "print(f\"F1 = {b[0]}\")\n",
        "\n",
        "#tính các số Fibonacci\n",
        "for i in range(n):\n",
        "    b = A.dot(b)\n",
        "    print(f\"F{i+2} = {b[0]}\")\n"
      ],
      "metadata": {
        "colab": {
          "base_uri": "https://localhost:8080/"
        },
        "id": "4_OHZh2452Q7",
        "outputId": "777ee3b7-da5b-4fbb-ffce-49d3ac4cd8a3"
      },
      "execution_count": 10,
      "outputs": [
        {
          "output_type": "stream",
          "name": "stdout",
          "text": [
            "các số Fibonacci đầu tiên:\n",
            "F0 = 0\n",
            "F1 = 1\n",
            "F2 = 1\n",
            "F3 = 2\n",
            "F4 = 3\n",
            "F5 = 5\n",
            "F6 = 8\n",
            "F7 = 13\n",
            "F8 = 21\n",
            "F9 = 34\n",
            "F10 = 55\n",
            "F11 = 89\n"
          ]
        }
      ]
    },
    {
      "cell_type": "markdown",
      "source": [],
      "metadata": {
        "id": "eI4pHGQ17A7X"
      }
    },
    {
      "cell_type": "code",
      "source": [
        "# Bài toán 5.2 - Đếm xe vào khu vực trung tâm\n",
        "from sympy import symbols, solve\n",
        "import numpy as np\n",
        "x1, x2, x3, x4 = symbols('x1 x2 x3 x4')\n",
        "#hệ phương trình\n",
        "pt1 = x4 + 610 - 450 - x1\n",
        "pt2 = x1 + 400 - x2 - 640\n",
        "pt3 = x2 + 600 - x3\n",
        "pt4 = x3 - x4 - 520\n",
        "#sympy\n",
        "nghiem = solve((pt1, pt2, pt3, pt4), (x1, x2, x3, x4))\n",
        "print(\"Kết quả bằng sympy:\")\n",
        "print(nghiem)\n",
        "#ma trận\n",
        "A = np.array([\n",
        "    [-1,  0,  0,  1],\n",
        "    [ 1, -1,  0,  0],\n",
        "    [ 0,  1, -1,  0],\n",
        "    [ 0,  0,  1, -1]\n",
        "], dtype=float)\n",
        "B = np.array([-160, 240, -600, 520], dtype=float)\n",
        "#dùng lstsq\n",
        "X, residuals, rank, s = np.linalg.lstsq(A, B, rcond=None)\n",
        "print(\"\\nkết quả bằng numpy (lstsq):\")\n",
        "for i, xi in enumerate(X, 1):\n",
        "    print(f\"x{i} = {xi}\")\n",
        "#nghịch đảo của ma trận\n",
        "try:\n",
        "    A_inv = np.linalg.inv(A)\n",
        "    print(\"\\nma trận nghịch đảo của A:\")\n",
        "    print(A_inv)\n",
        "except np.linalg.LinAlgError:\n",
        "    print(\"\\nma trận A không có ma trận nghịch đảo\")\n"
      ],
      "metadata": {
        "colab": {
          "base_uri": "https://localhost:8080/"
        },
        "id": "UKq9MYLJ63Jr",
        "outputId": "95445319-1d4d-4858-f5a1-181ef4e85173"
      },
      "execution_count": 12,
      "outputs": [
        {
          "output_type": "stream",
          "name": "stdout",
          "text": [
            "Kết quả bằng sympy:\n",
            "{x1: x4 + 160, x2: x4 - 80, x3: x4 + 520}\n",
            "\n",
            "kết quả bằng numpy (lstsq):\n",
            "x1 = 10.000000000000078\n",
            "x2 = -230.00000000000006\n",
            "x3 = 370.0\n",
            "x4 = -150.0\n",
            "\n",
            "ma trận A không có ma trận nghịch đảo\n"
          ]
        }
      ]
    },
    {
      "cell_type": "markdown",
      "source": [
        "#BÀI TẬP VỀ NHÀ"
      ],
      "metadata": {
        "id": "Btj1vBui9fh3"
      }
    },
    {
      "cell_type": "code",
      "source": [
        "#bài tập 1\n",
        "import numpy as np\n",
        "#vấn đề 1\n",
        "A1 = np.array([[1, -1], [2, 3]])\n",
        "B1 = np.array([-2, 6])\n",
        "x1 = np.linalg.solve(A1, B1)\n",
        "print(\"vấn đề 1:\", x1)\n",
        "#vấn đề 2\n",
        "A2 = np.array([[1, -1, 0], [2, -1, -1], [1, 1, 1]])\n",
        "B2 = np.array([2, 3, 6])\n",
        "x2 = np.linalg.solve(A2, B2)\n",
        "print(\"vấn đề 2:\", x2)\n",
        "#vấn đề 3\n",
        "A3 = np.array([[1, 1, 1], [4, 2, 1], [9, 3, 1]])\n",
        "B3 = np.array([4, 3, 4])\n",
        "x3 = np.linalg.solve(A3, B3)\n",
        "print(\"vấn đề 3: a, b, c =\", x3)\n",
        "#vấn đề 4\n",
        "A4 = np.array([[1, 0, 1], [1, -2, -3], [-2, 2, 0]])\n",
        "B4 = np.array([1, -3, 0])\n",
        "x4 = np.linalg.solve(A4, B4)\n",
        "print(\"vấn đề 4: a, b, c =\", x4)\n"
      ],
      "metadata": {
        "colab": {
          "base_uri": "https://localhost:8080/"
        },
        "id": "TGbibTMb9lRL",
        "outputId": "f974ce93-e490-4164-e693-fedd2e541108"
      },
      "execution_count": 13,
      "outputs": [
        {
          "output_type": "stream",
          "name": "stdout",
          "text": [
            "vấn đề 1: [0. 2.]\n",
            "vấn đề 2: [3. 1. 2.]\n",
            "vấn đề 3: a, b, c = [ 1. -4.  7.]\n",
            "vấn đề 4: a, b, c = [-0. -0.  1.]\n"
          ]
        }
      ]
    },
    {
      "cell_type": "code",
      "source": [
        "#bài tập 2\n",
        "from sympy import symbols, Eq, solve, Matrix\n",
        "x, y, z, a, b, c = symbols('x y z a b c')\n",
        "#vấn đề 1\n",
        "eqs1 = [Eq(x - y, -2), Eq(2*x + 3*y, 6)]\n",
        "sol1 = solve(eqs1, (x, y))\n",
        "print(\"vấn đề 1:\", sol1)\n",
        "#vấn đề 2\n",
        "eqs2 = [Eq(x - y, 2), Eq(2*x - y - z, 3), Eq(x + y + z, 6)]\n",
        "sol2 = solve(eqs2, (x, y, z))\n",
        "print(\"vấn đề 2:\", sol2)\n",
        "#vấn đề 3\n",
        "eqs3 = [Eq(a + b + c, 4), Eq(4*a + 2*b + c, 3), Eq(9*a + 3*b + c, 4)]\n",
        "sol3 = solve(eqs3, (a, b, c))\n",
        "print(\"vấn đề 3:\", sol3)\n",
        "#vấn đề 4\n",
        "eqs4 = [Eq(a + c, 1), Eq(a + b - 2*c, -3), Eq(-2*a + 2*b + c, 0)]\n",
        "sol4 = solve(eqs4, (a, b, c))\n",
        "print(\"vấn đề 4:\", sol4)"
      ],
      "metadata": {
        "colab": {
          "base_uri": "https://localhost:8080/"
        },
        "id": "zMCqlrU4958A",
        "outputId": "fca47618-be1c-44f6-e04d-488c414126db"
      },
      "execution_count": 14,
      "outputs": [
        {
          "output_type": "stream",
          "name": "stdout",
          "text": [
            "vấn đề 1: {x: 0, y: 2}\n",
            "vấn đề 2: {x: 3, y: 1, z: 2}\n",
            "vấn đề 3: {a: 1, b: -4, c: 7}\n",
            "vấn đề 4: {a: -1/9, b: -2/3, c: 10/9}\n"
          ]
        }
      ]
    },
    {
      "cell_type": "code",
      "source": [
        "#bài tập 3\n",
        "import numpy as np\n",
        "def luy_thua_ma_tran(F, k):\n",
        "    ket_qua = np.identity(2, dtype=object)\n",
        "    while k > 0:\n",
        "        if k % 2 == 1:\n",
        "            ket_qua = np.dot(ket_qua, F)\n",
        "        F = np.dot(F, F)\n",
        "        k //= 2\n",
        "    return ket_qua\n",
        "\n",
        "def ma_tran_Fibonacci(k):\n",
        "    F = np.array([[1, 1], [1, 0]], dtype=object)\n",
        "    Fk = luy_thua_ma_tran(F, k)\n",
        "    print(f\"Ma trận F^{k} là:\")\n",
        "    print(Fk)\n",
        "    print(\"\\nTheo lý thuyết, ta có:\")\n",
        "    print(\"F^k = [[Fib_{k+1}, Fib_k],\")\n",
        "    print(\"       [Fib_k,   Fib_{k-1}]]\")\n",
        "\n",
        "    print(\"\\n=> Ma trận F^k chứa ba số Fibonacci liên tiếp:\")\n",
        "    print(\"   Fib_{k+1}, Fib_k, Fib_{k-1}\")\n",
        "#ví dụ key = 7\n",
        "k = 7\n",
        "matran_Fibonacci(k)\n",
        "\n",
        "\n"
      ],
      "metadata": {
        "colab": {
          "base_uri": "https://localhost:8080/"
        },
        "id": "EErcjIBZ-AW2",
        "outputId": "d4f43440-eaf7-411f-fcae-f17ce4f81e4e"
      },
      "execution_count": 17,
      "outputs": [
        {
          "output_type": "stream",
          "name": "stdout",
          "text": [
            "F^7 =\n",
            "[[21 13]\n",
            " [13  8]]\n",
            "Fib(8) = 21\n",
            "Fib(7)   = 13\n",
            "Fib(6) = 8\n"
          ]
        }
      ]
    }
  ]
}