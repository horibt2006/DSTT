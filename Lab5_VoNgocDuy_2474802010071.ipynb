{
  "nbformat": 4,
  "nbformat_minor": 0,
  "metadata": {
    "colab": {
      "provenance": [],
      "collapsed_sections": [
        "RRljgo1s7IwQ",
        "V_umEL2B7ROZ"
      ]
    },
    "kernelspec": {
      "name": "python3",
      "display_name": "Python 3"
    },
    "language_info": {
      "name": "python"
    }
  },
  "cells": [
    {
      "cell_type": "markdown",
      "source": [
        "#Bài tập thực hành"
      ],
      "metadata": {
        "id": "RRljgo1s7IwQ"
      }
    },
    {
      "cell_type": "code",
      "execution_count": 1,
      "metadata": {
        "colab": {
          "base_uri": "https://localhost:8080/"
        },
        "id": "E_scPjez0n9K",
        "outputId": "146d0803-a26c-4d7f-b988-ccbc481b7d5c"
      },
      "outputs": [
        {
          "output_type": "stream",
          "name": "stdout",
          "text": [
            "giá trị của E sau khi copyto(E, D): \n",
            "[[1 2]\n",
            " [3 4]]\n"
          ]
        }
      ],
      "source": [
        "#Võ Ngọc Duy - 2474802010071\n",
        "#Thực hành 1.1\n",
        "import numpy as np\n",
        "D = np.array([[1, 2], [3, 4]])\n",
        "E = np.array([[1, 2], [3, 5]])\n",
        "np.copyto(E, D)\n",
        "print(\"giá trị của E sau khi copyto (E, D): \")\n",
        "print(E)\n"
      ]
    },
    {
      "cell_type": "code",
      "source": [
        "#Thực hành 1.3\n",
        "# Import thư viện\n",
        "from numpy import matlib\n",
        "G = matlib.identity(5)\n",
        "print(\"ma trận đơn vị G:\")\n",
        "print(G)\n",
        "H = matlib.randn(3, 2)\n",
        "print(\"\\nma trận ngẫu nhiên H: \")\n",
        "print(H)\n",
        "K = matlib.zeros([4, 4])\n",
        "print(\"\\nma trận toàn số 0 K: \")\n",
        "print(K)\n"
      ],
      "metadata": {
        "colab": {
          "base_uri": "https://localhost:8080/"
        },
        "id": "-4uUthld4NkU",
        "outputId": "75a69038-59ee-4944-cace-7ae1367065c6"
      },
      "execution_count": 4,
      "outputs": [
        {
          "output_type": "stream",
          "name": "stdout",
          "text": [
            "ma trận đơn vị G:\n",
            "[[1. 0. 0. 0. 0.]\n",
            " [0. 1. 0. 0. 0.]\n",
            " [0. 0. 1. 0. 0.]\n",
            " [0. 0. 0. 1. 0.]\n",
            " [0. 0. 0. 0. 1.]]\n",
            "\n",
            "ma trận ngẫu nhiên H: \n",
            "[[ 0.44055941  0.78216854]\n",
            " [-0.91937794  0.87605266]\n",
            " [-0.86349622 -0.1073863 ]]\n",
            "\n",
            "ma trận toàn số 0 K: \n",
            "[[0. 0. 0. 0.]\n",
            " [0. 0. 0. 0.]\n",
            " [0. 0. 0. 0.]\n",
            " [0. 0. 0. 0.]]\n"
          ]
        }
      ]
    },
    {
      "cell_type": "code",
      "source": [
        "#Thực hành 2.2\n",
        "import numpy as np\n",
        "c = [3, 7, 15, 1, 292, 1, 1, 1, 2, 1, 3, 1, 14, 2]\n",
        "M = np.matrix([[1, 0], [0, 1]])\n",
        "for i in range(len(c)):\n",
        "    ci = np.matrix([[c[i], 1], [1, 0]])\n",
        "    M = M.dot(ci)\n",
        "print(\"ma trận kết quả: \")\n",
        "print(M)\n",
        "pi_approx = M[0, 0] / M[1, 0]\n",
        "print(\"\\ngiá trị gần đúng của số pi theo biểu diễn liên phân số:\", pi_approx)\n",
        "\n"
      ],
      "metadata": {
        "colab": {
          "base_uri": "https://localhost:8080/"
        },
        "id": "2DI97p-54u2Y",
        "outputId": "7b092aec-2efb-4acf-fc7c-416dd166a4fb"
      },
      "execution_count": 9,
      "outputs": [
        {
          "output_type": "stream",
          "name": "stdout",
          "text": [
            "ma trận kết quả: \n",
            "[[165707065  80143857]\n",
            " [ 52746197  25510582]]\n",
            "\n",
            "giá trị gần đúng của số pi theo biểu diễn liên phân số: 3.1415926535897936\n"
          ]
        }
      ]
    },
    {
      "cell_type": "code",
      "source": [
        "#Thực hành 3.2\n",
        "import numpy as np\n",
        "#nhập X và Y\n",
        "X = np.array([\n",
        "    [1, 1],\n",
        "    [1, 2],\n",
        "    [1, 3],\n",
        "    [1, 4],\n",
        "    [1, 5]\n",
        "])\n",
        "Y = np.array([\n",
        "    [2],\n",
        "    [4],\n",
        "    [2],\n",
        "    [4],\n",
        "    [6]\n",
        "])\n",
        "XT = X.T\n",
        "A1 = np.linalg.inv(XT.dot(X))\n",
        "A2 = XT.dot(Y)\n",
        "#tính A = (X^T * X)^-1 * X^T * Y\n",
        "A = A1.dot(A2)\n",
        "print(\"giá trị các hệ số hồi quy (a0, a1):\")\n",
        "print(A)\n",
        "a0, a1 = A[0, 0], A[1, 0]\n",
        "print(f\"\\nphương trình hồi quy: y = {a0:.1f} + {a1:.1f}x\")\n",
        "f = X.dot(A)\n",
        "sai_so = f - Y\n",
        "binh_phuong_sai_so = sai_so ** 2\n",
        "tong_binh_phuong_sai_so = np.sum(binh_phuong_sai_so)\n",
        "print(\"\\ntổng bình phương sai số:\", tong_binh_phuong_sai_so)\n",
        "\n"
      ],
      "metadata": {
        "colab": {
          "base_uri": "https://localhost:8080/"
        },
        "id": "qBo2wpr_5z5L",
        "outputId": "b502988d-0c22-4adf-a720-fd115f5fdddc"
      },
      "execution_count": 10,
      "outputs": [
        {
          "output_type": "stream",
          "name": "stdout",
          "text": [
            "giá trị các hệ số hồi quy (a0, a1):\n",
            "[[1.2]\n",
            " [0.8]]\n",
            "\n",
            "phương trình hồi quy: y = 1.2 + 0.8x\n",
            "\n",
            "tổng bình phương sai số: 4.799999999999999\n"
          ]
        }
      ]
    },
    {
      "cell_type": "markdown",
      "source": [
        "#Bài tập về nhà"
      ],
      "metadata": {
        "id": "V_umEL2B7ROZ"
      }
    },
    {
      "cell_type": "code",
      "source": [
        "#Bài tập 1\n",
        "import numpy as np\n",
        "from numpy import linalg\n",
        "def bpcuctieu(a):\n",
        "    b = []\n",
        "    o1 = []\n",
        "    for i in range(len(a)):\n",
        "        o1.append(1.0)\n",
        "        b.append((i+1)*1.0)\n",
        "    for i in range(len(b)):\n",
        "        b[i] = b[i] - 1\n",
        "    x = np.array([o1, b]).T\n",
        "    y = np.array(a).reshape(-1, 1)\n",
        "    u = np.linalg.inv(np.dot(x.T, x))\n",
        "    v = np.dot(x.T, y)\n",
        "    A = np.dot(u, v)\n",
        "    return A\n",
        "dulieu = [10.0, 8, 7.5, 5, 2]\n",
        "A = bpcuctieu(dulieu)\n",
        "a0 = A[0][0]\n",
        "a1 = A[1][0]\n",
        "print(f\"phương trình hồi quy: y = {a0:.1f} + {a1:.1f}x\")\n"
      ],
      "metadata": {
        "colab": {
          "base_uri": "https://localhost:8080/"
        },
        "id": "87a8giMm7TEe",
        "outputId": "fba32a9f-0315-4df0-ea73-e352eb5b02df"
      },
      "execution_count": 11,
      "outputs": [
        {
          "output_type": "stream",
          "name": "stdout",
          "text": [
            "phương trình hồi quy: y = 10.3 + -1.9x\n"
          ]
        }
      ]
    }
  ]
}