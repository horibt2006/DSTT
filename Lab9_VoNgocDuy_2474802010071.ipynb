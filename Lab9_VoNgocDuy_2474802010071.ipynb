{
  "cells": [
    {
      "cell_type": "markdown",
      "metadata": {
        "id": "49QVcjhdJN_3"
      },
      "source": [
        "#Đề Thi Thử Thực Hành Đại Số Tuyến Tính"
      ]
    },
    {
      "cell_type": "code",
      "execution_count": 13,
      "metadata": {
        "colab": {
          "base_uri": "https://localhost:8080/"
        },
        "id": "tv7bUny7EDSo",
        "outputId": "d9aed5b3-78ba-4466-87c2-a5bf4b62e56a"
      },
      "outputs": [
        {
          "name": "stdout",
          "output_type": "stream",
          "text": [
            "a/ A + B = [3 3 1 5]\n",
            "\n",
            "3A - 2B = [  4 -11  13 -10]\n",
            "b/ Tích vô hướng A · B = -8\n",
            "\n",
            "Góc giữa A và B = 108.376 độ\n",
            "\n",
            "c/ tích ma trận C^T · C\n",
            "[[ 5  0 -1]\n",
            " [ 0 14 10]\n",
            " [-1 10 17]]\n"
          ]
        }
      ],
      "source": [
        "#Câu 1\n",
        "import numpy as np\n",
        "A = np.array([2, -1, 3, 0])\n",
        "B = np.array([1, 4, -2, 5])\n",
        "C = np.array([[1, 2, -1],\n",
        "              [0, 3, 4],\n",
        "              [2, -1, 0]])\n",
        "# Câu a\n",
        "tong_AB = A + B\n",
        "bieuthuc = 3 * A - 2 * B\n",
        "print(\"a/ A + B =\", tong_AB)\n",
        "print(\"\\n3A - 2B =\", bieuthuc)\n",
        "\n",
        "# Câu b\n",
        "tich_vo_huong = np.dot(A, B)\n",
        "do_dai_A = np.linalg.norm(A)\n",
        "do_dai_B = np.linalg.norm(B)\n",
        "cos_theta = tich_vo_huong / (do_dai_A * do_dai_B)\n",
        "goc = np.degrees(np.arccos(cos_theta))\n",
        "print(\"b/ Tích vô hướng A · B =\", tich_vo_huong)\n",
        "print(\"\\nGóc giữa A và B =\", round(goc, 3), \"độ\")\n",
        "\n",
        "# Câu c\n",
        "CtC = C.T @ C\n",
        "print(\"\\nc/ tích ma trận C^T · C\")\n",
        "print(CtC)"
      ]
    },
    {
      "cell_type": "code",
      "execution_count": 12,
      "metadata": {
        "colab": {
          "base_uri": "https://localhost:8080/"
        },
        "id": "-NhWhYWJFOEp",
        "outputId": "6a496eda-2da4-4803-e282-dc07a39fb31b"
      },
      "outputs": [
        {
          "name": "stdout",
          "output_type": "stream",
          "text": [
            "\n",
            "a/ tích ma trận M × N \n",
            "[[ 32  38  44  50]\n",
            " [ 80  96 112 128]\n",
            " [128 154 180 206]\n",
            " [ 12  14  16  18]]\n",
            "\n",
            "b/ định thức của ma trận M = 0.0\n",
            "\n",
            "c/ hạng của ma trận N = 2\n"
          ]
        }
      ],
      "source": [
        "#Câu 2\n",
        "import numpy as np\n",
        "\n",
        "# Khai báo ma trận M và N\n",
        "M = np.array([[1, 2, 3, 0],\n",
        "              [4, 5, 6, 1],\n",
        "              [7, 8, 9, 2],\n",
        "              [0, 1, 1, 0]])\n",
        "\n",
        "N = np.array([[0, 1, 2, 3],\n",
        "              [4, 5, 6, 7],\n",
        "              [8, 9, 10, 11],\n",
        "              [12, 13, 14, 15]])\n",
        "# Câu a\n",
        "MN = M @ N\n",
        "print(\"\\na/ tích ma trận M × N \")\n",
        "print(MN)\n",
        "\n",
        "# Câu b\n",
        "if M.shape[0] == M.shape[1]:\n",
        "    det_M = np.linalg.det(M)\n",
        "    print(\"\\nb/ định thức của ma trận M =\", round(det_M, 3))\n",
        "else:\n",
        "    print(\"\\nb/ không tính được định thức vì M không phải là ma trận vuông\")\n",
        "\n",
        "# Câu c\n",
        "rank_N = np.linalg.matrix_rank(N)\n",
        "print(\"\\nc/ hạng của ma trận N =\", rank_N)"
      ]
    },
    {
      "cell_type": "code",
      "execution_count": 14,
      "metadata": {
        "colab": {
          "base_uri": "https://localhost:8080/"
        },
        "id": "0lM4RmU3GDFn",
        "outputId": "30c8d3ee-3f1e-44bd-90e2-2a2e36729136"
      },
      "outputs": [
        {
          "name": "stdout",
          "output_type": "stream",
          "text": [
            "\n",
            " a/ Ma trận nghịch đảo của P là:\n",
            "[[ 0.48837209 -0.09302326  0.02325581 -0.20930233]\n",
            " [ 0.03488372  0.27906977 -0.06976744  0.12790698]\n",
            " [-0.11627907  0.06976744  0.23255814 -0.09302326]\n",
            " [-0.01162791 -0.09302326  0.02325581  0.29069767]]\n",
            "\n",
            "b/Nghiệm của hệ phương trình là:\n",
            "x = 0.465\n",
            "y = 2.105\n",
            "z = 1.651\n",
            "w = 0.965\n",
            "\n",
            "c/ Tích P · x = [4. 7. 9. 5.]\n",
            "Vector hằng số b = [4 7 9 5]\n",
            "Hai vector có khớp nhau không? => True\n"
          ]
        }
      ],
      "source": [
        "#Câu 3\n",
        "import numpy as np\n",
        "P = np.array([[2, 1, 0, 1],\n",
        "              [0, 3, 1, -1],\n",
        "              [1, 0, 4, 2],\n",
        "              [0, 1, 0, 3]])\n",
        "b = np.array([4, 7, 9, 5])\n",
        "# Câu a\n",
        "try:\n",
        "    P_inv = np.linalg.inv(P)\n",
        "    print(\"\\n a/ Ma trận nghịch đảo của P là:\")\n",
        "    print(P_inv)\n",
        "except np.linalg.LinAlgError:\n",
        "    print(\"Ma trận P không khả nghịch vì định thức bằng 0\")\n",
        "\n",
        "# Câu b\n",
        "if 'P_inv' in locals():\n",
        "    x = P_inv @ b\n",
        "    print(\"\\nb/Nghiệm của hệ phương trình là:\")\n",
        "    print(\"x =\", round(x[0], 3))\n",
        "    print(\"y =\", round(x[1], 3))\n",
        "    print(\"z =\", round(x[2], 3))\n",
        "    print(\"w =\", round(x[3], 3))\n",
        "else:\n",
        "    print(\"Không thể giải vì không có nghịch đảo của P\")\n",
        "\n",
        "# Câu c\n",
        "if 'x' in locals():\n",
        "    check = P @ x\n",
        "    print(\"\\nc/ Tích P · x =\", check)\n",
        "    print(\"Vector hằng số b =\", b)\n",
        "    print(\"Hai vector có khớp nhau không? =>\", np.allclose(check, b))\n",
        "else:\n",
        "    print(\"Không thể kiểm tra vì chưa có nghiệm.\")"
      ]
    },
    {
      "cell_type": "code",
      "execution_count": null,
      "metadata": {
        "colab": {
          "base_uri": "https://localhost:8080/"
        },
        "id": "tesprxEhGx56",
        "outputId": "ed1abd82-21a2-40e7-a3b0-dd6a8c41ca94"
      },
      "outputs": [
        {
          "name": "stdout",
          "output_type": "stream",
          "text": [
            "a/ Giá trị riêng Q1 = 3.4534\n",
            "a/ Giá trị riêng Q2 = 2.7733 + 1.4677j\n",
            "a/ Giá trị riêng Q3 = 2.7733 + -1.4677j\n",
            "\n",
            "b/ Vector riêng tương ứng với các giá trị riêng\n",
            "Vector riêng ứng với Q1 = (3.4534+0j):\n",
            "[0.8333+0.j 0.4555+0.j 0.3134+0.j]\n",
            "Vector riêng ứng với Q2 = (2.7733+1.4677j):\n",
            "[-0.2621-0.3135j -0.7817+0.j     -0.2196+0.4169j]\n",
            "Vector riêng ứng với Q3 = (2.7733-1.4677j):\n",
            "[-0.2621+0.3135j -0.7817-0.j     -0.2196-0.4169j]\n",
            "\n",
            "c/ Chuẩn hóa tất cả các vector riêng\n",
            "Vector riêng 1:\n",
            "[0.8333+0.j 0.4555+0.j 0.3134+0.j]\n",
            "Vector riêng 2:\n",
            "[-0.2621-0.3135j -0.7817+0.j     -0.2196+0.4169j]\n",
            "Vector riêng 3:\n",
            "[-0.2621+0.3135j -0.7817+0.j     -0.2196-0.4169j]\n"
          ]
        }
      ],
      "source": [
        "# Câu 4\n",
        "import numpy as np\n",
        "Q = np.array([[4, -1, 0],\n",
        "              [1, 3, -2],\n",
        "              [0, 1, 2]])\n",
        "eigenvalues, eigenvectors = np.linalg.eig(Q)\n",
        "\n",
        "# Câu a\n",
        "for i, val in enumerate(eigenvalues):\n",
        "    val_real = np.round(val.real, 4)\n",
        "    val_imag = np.round(val.imag, 4)\n",
        "    if np.isclose(val.imag, 0):\n",
        "        print(f\"a/ Giá trị riêng Q{i+1} = {val_real}\")\n",
        "    else:\n",
        "        print(f\"a/ Giá trị riêng Q{i+1} = {val_real} + {val_imag}j\")\n",
        "\n",
        "# Câu b\n",
        "print(\"\\nb/ Vector riêng tương ứng với các giá trị riêng\")\n",
        "for i in range(len(eigenvalues)):\n",
        "    eig_val = eigenvalues[i]\n",
        "    print(f\"Vector riêng ứng với Q{i+1} = {np.round(eig_val, 4)}:\")\n",
        "    print(np.round(eigenvectors[:, i], 4))\n",
        "\n",
        "# Câu c\n",
        "print(\"\\nc/ Chuẩn hóa tất cả các vector riêng\")\n",
        "for i in range(len(eigenvalues)):\n",
        "    v = eigenvectors[:, i]\n",
        "    v_norm = v / np.linalg.norm(v)\n",
        "    print(f\"Vector riêng {i+1}:\")\n",
        "    print(np.round(v_norm, 4))"
      ]
    },
    {
      "cell_type": "code",
      "execution_count": 22,
      "metadata": {
        "colab": {
          "base_uri": "https://localhost:8080/"
        },
        "id": "NDENRYNHI2UX",
        "outputId": "ff93e919-1be4-4020-ccc6-ecedd018bd1b"
      },
      "outputs": [
        {
          "name": "stdout",
          "output_type": "stream",
          "text": [
            "\n",
            "a/ Nghiệm x của hệ phương trình Rx = b là:\n",
            "[2.7826087  0.04347826 2.43478261]\n",
            "\n",
            "b) Ma trận R khả nghịch\n",
            "Nghiệm x (dùng ma trận nghịch đảo):\n",
            "[2.7826087  0.04347826 2.43478261]\n",
            "Hai nghiệm giống nhau: True\n",
            "\n",
            "c/ Chuẩn Frobenius của ma trận R là: 6.0828\n"
          ]
        }
      ],
      "source": [
        "#Câu 5\n",
        "import numpy as n\n",
        "R = np.array([[1, -2, 3],\n",
        "              [2,  0, 1],\n",
        "              [-1, 1, 4]])\n",
        "b = np.array([10, 8, 7])\n",
        "\n",
        "# Câu a\n",
        "x1 = np.linalg.solve(R, b)\n",
        "print(\"\\na/ Nghiệm x của hệ phương trình Rx = b là:\")\n",
        "print(x1)\n",
        "\n",
        "# Câu b\n",
        "if np.linalg.det(R) != 0:\n",
        "    R_inv = np.linalg.inv(R)\n",
        "    x2 = R_inv @ b\n",
        "    print(\"\\nb) Ma trận R khả nghịch\")\n",
        "    print(\"Nghiệm x (dùng ma trận nghịch đảo):\")\n",
        "    print(x2)\n",
        "    print(\"Hai nghiệm giống nhau:\", np.allclose(x1, x2))\n",
        "else:\n",
        "    print(\"\\nb/ Ma trận R không khả nghịch\")\n",
        "\n",
        "# Câu c\n",
        "fro_norm = np.linalg.norm(R, ord='fro')\n",
        "print(\"\\nc/ Chuẩn Frobenius của ma trận R là:\", round(fro_norm, 4))"
      ]
    }
  ],
  "metadata": {
    "colab": {
      "provenance": []
    },
    "kernelspec": {
      "display_name": "Python 3",
      "name": "python3"
    },
    "language_info": {
      "name": "python"
    }
  },
  "nbformat": 4,
  "nbformat_minor": 0
}
