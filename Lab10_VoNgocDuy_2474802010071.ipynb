{
  "nbformat": 4,
  "nbformat_minor": 0,
  "metadata": {
    "colab": {
      "provenance": []
    },
    "kernelspec": {
      "name": "python3",
      "display_name": "Python 3"
    },
    "language_info": {
      "name": "python"
    }
  },
  "cells": [
    {
      "cell_type": "markdown",
      "source": [
        "#Thi Thực Hành Đại Số Tuyến Tính"
      ],
      "metadata": {
        "id": "Pdd-YiPKKzCM"
      }
    },
    {
      "cell_type": "code",
      "execution_count": 18,
      "metadata": {
        "colab": {
          "base_uri": "https://localhost:8080/"
        },
        "id": "QwLf741SEEoS",
        "outputId": "4d72da68-e8f3-4a9d-e0b2-9a4f26cfce63"
      },
      "outputs": [
        {
          "output_type": "stream",
          "name": "stdout",
          "text": [
            "a/\n",
            "A + B = [2 3 1 6]\n",
            "2A + 3B = [ 3 11  2 14]\n",
            "\n",
            "b/\n",
            "A.B = -5\n",
            "góc giữa A và B = 99.594 độ\n",
            "\n",
            "c/\n",
            "C*C^T =\n",
            "[[14 -8 13]\n",
            " [-8 21 -2]\n",
            " [13 -2 29]]\n"
          ]
        }
      ],
      "source": [
        "#Võ Ngọc Duy - 2474802010071\n",
        "#Câu 1\n",
        "import numpy as np\n",
        "import math\n",
        "A = np.array([3, -2, 1, 4])\n",
        "B = np.array([-1, 5, 0, 2])\n",
        "C = np.array([[2, -1, 3],\n",
        "              [1, 4, -2],\n",
        "              [0, 2, 5]])\n",
        "#a/\n",
        "tong_AB = A + B\n",
        "tich_so = 2*A + 3*B\n",
        "print(\"a/\")\n",
        "print(\"A + B =\", tong_AB)\n",
        "print(\"2A + 3B =\", tich_so)\n",
        "# b/\n",
        "tich_vo_huong = np.dot(A, B)\n",
        "do_dai_A = np.linalg.norm(A)\n",
        "do_dai_B = np.linalg.norm(B)\n",
        "cos_goc = tich_vo_huong/ (do_dai_A * do_dai_B)\n",
        "goc_do = math.degrees(math.acos(cos_goc))\n",
        "print(\"\\nb/\")\n",
        "print(\"A.B =\", tich_vo_huong)\n",
        "print(\"góc giữa A và B =\", round(goc_do, 3), \"độ\")\n",
        "#c/\n",
        "C_CT = np.dot(C, C.T)\n",
        "print(\"\\nc/\")\n",
        "print(\"C*C^T =\")\n",
        "print(C_CT)\n"
      ]
    },
    {
      "cell_type": "code",
      "source": [
        "#Câu 2\n",
        "import numpy as np\n",
        "M = np.array([[2, -1, 3, 0],\n",
        "              [1, 4, -2, 5],\n",
        "              [0, 2, 6, -3],\n",
        "              [-1, 0, 1, 4]])\n",
        "\n",
        "N = np.array([[1, 3, -2, 0],\n",
        "              [4, -1, 5, 2],\n",
        "              [0, 2, 3, -1],\n",
        "              [-3, 1, 0, 4]])\n",
        "\n",
        "#a/\n",
        "MN = np.dot(M, N)\n",
        "print(\"a/\")\n",
        "print(\"M× N=\")\n",
        "print(MN)\n",
        "#b/\n",
        "det_M = np.linalg.det(M)\n",
        "print(\"\\nb/\")\n",
        "print(\"định thức của M =\", round(det_M, 3))\n",
        "#c/\n",
        "rank_N = np.linalg.matrix_rank(N)\n",
        "print(\"\\nc/\")\n",
        "print(\"hạng của N =\", rank_N)\n"
      ],
      "metadata": {
        "colab": {
          "base_uri": "https://localhost:8080/"
        },
        "id": "YW1xkftwGO6b",
        "outputId": "d3f3a19e-058f-45d5-d55d-b304479911cb"
      },
      "execution_count": 19,
      "outputs": [
        {
          "output_type": "stream",
          "name": "stdout",
          "text": [
            "a/\n",
            "M× N=\n",
            "[[ -2  13   0  -5]\n",
            " [  2   0  12  30]\n",
            " [ 17   7  28 -14]\n",
            " [-13   3   5  15]]\n",
            "\n",
            "b/\n",
            "định thức của M = 409.0\n",
            "\n",
            "c/\n",
            "hạng của N = 4\n"
          ]
        }
      ]
    },
    {
      "cell_type": "code",
      "source": [
        "#Câu 3\n",
        "import numpy as np\n",
        "P = np.array([[3, -1, 0, 2],\n",
        "              [1, 4, -2, 0],\n",
        "              [0, 1, 5, -1],\n",
        "              [2, 0, 1, 3]])\n",
        "b = np.array([6, 8, 3, 7])\n",
        "#a/\n",
        "det_P = np.linalg.det(P)\n",
        "print(\"a/\")\n",
        "if det_P == 0:\n",
        "    print(\"ma trận P không khả nghịch vì định thức bằng 0.\")\n",
        "else:\n",
        "    P_inv = np.linalg.inv(P)\n",
        "    print(\"ma trận nghịch đảo của P là:\")\n",
        "    print(P_inv)\n",
        "#b/\n",
        "x = np.dot(P_inv, b)\n",
        "print(\"\\nb/\")\n",
        "print(\"nghiệm của hệ phương trình (x, y, z, w) là:\")\n",
        "print(x)\n",
        "#c/\n",
        "kiemtra = np.dot(P, x)\n",
        "print(\"\\nc/\")\n",
        "print(\"P × nghiệm =\", kiemtra)\n",
        "print(\"so sánh với vector hằng số b =\", b)\n"
      ],
      "metadata": {
        "colab": {
          "base_uri": "https://localhost:8080/"
        },
        "id": "4sC-Ge9-HITS",
        "outputId": "79d206e0-1397-4f15-8bfc-b8812dad56d5"
      },
      "execution_count": 20,
      "outputs": [
        {
          "output_type": "stream",
          "name": "stdout",
          "text": [
            "a/\n",
            "ma trận nghịch đảo của P là:\n",
            "[[ 0.5         0.1         0.1        -0.3       ]\n",
            " [-0.14285714  0.2         0.05714286  0.11428571]\n",
            " [-0.03571429 -0.05        0.16428571  0.07857143]\n",
            " [-0.32142857 -0.05       -0.12142857  0.50714286]]\n",
            "\n",
            "b/\n",
            "nghiệm của hệ phương trình (x, y, z, w) là:\n",
            "[2.         1.71428571 0.42857143 0.85714286]\n",
            "\n",
            "c/\n",
            "P × nghiệm = [6. 8. 3. 7.]\n",
            "so sánh với vector hằng số b = [6 8 3 7]\n"
          ]
        }
      ]
    },
    {
      "cell_type": "code",
      "source": [
        "#Câu 4\n",
        "import numpy as np\n",
        "Q = np.array([[5, -2, 1],\n",
        "              [0, 3, -1],\n",
        "              [2, 0, 4]])\n",
        "#a/\n",
        "gia_tri_rieng, vector_rieng = np.linalg.eig(Q)\n",
        "print(\"a/\")\n",
        "print(\"các giá trị riêng của Q là:\")\n",
        "print(np.round(gia_tri_rieng, 3))\n",
        "#b/\n",
        "print(\"\\nb/\")\n",
        "print(\"các vector riêng tương ứng:\")\n",
        "print(np.round(vector_rieng, 3))\n",
        "#c/\n",
        "vector_chuan_hoa = vector_rieng/ np.linalg.norm(vector_rieng, axis=0)\n",
        "print(\"\\nc/\")\n",
        "print(\"các vector riêng sau khi chuẩn hóa:\")\n",
        "print(np.round(vector_chuan_hoa, 3))\n"
      ],
      "metadata": {
        "colab": {
          "base_uri": "https://localhost:8080/"
        },
        "id": "InrSq0qdIKy4",
        "outputId": "85266051-1ceb-4db8-c88c-419b72ff0a45"
      },
      "execution_count": 21,
      "outputs": [
        {
          "output_type": "stream",
          "name": "stdout",
          "text": [
            "a/\n",
            "các giá trị riêng của Q là:\n",
            "[6.355+0.j    2.822+1.077j 2.822-1.077j]\n",
            "\n",
            "b/\n",
            "các vector riêng tương ứng:\n",
            "[[ 0.748+0.j    -0.374+0.342j -0.374-0.342j]\n",
            " [-0.189+0.j     0.095+0.574j  0.095-0.574j]\n",
            " [ 0.636+0.j     0.636+0.j     0.636-0.j   ]]\n",
            "\n",
            "c/\n",
            "các vector riêng sau khi chuẩn hóa:\n",
            "[[ 0.748+0.j    -0.374+0.342j -0.374-0.342j]\n",
            " [-0.189+0.j     0.095+0.574j  0.095-0.574j]\n",
            " [ 0.636+0.j     0.636+0.j     0.636-0.j   ]]\n"
          ]
        }
      ]
    },
    {
      "cell_type": "code",
      "source": [
        "#Câu 5\n",
        "import numpy as np\n",
        "R = np.array([[4, -1, 2],\n",
        "              [1, 3, -2],\n",
        "              [0, 2, 5]])\n",
        "b = np.array([12, 5, 9])\n",
        "#a/\n",
        "x = np.linalg.solve(R, b)\n",
        "print(\"a/\")\n",
        "print(\"nghiệm của hệ phương trình x =\")\n",
        "print(np.round(x, 3))\n",
        "#b/\n",
        "dinh_thuc = np.linalg.det(R)\n",
        "print(\"\\nb/\")\n",
        "if dinh_thuc == 0:\n",
        "    print(\"ma trận R không khả nghịch (định thức = 0).\")\n",
        "else:\n",
        "    R_nghich_dao = np.linalg.inv(R)\n",
        "    x2 = np.dot(R_nghich_dao, b)\n",
        "    print(\"ma trận R khả nghịch, nghịch đảo của R là:\")\n",
        "    print(np.round(R_nghich_dao, 3))\n",
        "    print(\"giải hệ bằng R⁻¹ × b, nghiệm x' =\")\n",
        "    print(np.round(x2, 3))\n",
        "    print(\"so sánh với nghiệm ở câu a:\", np.allclose(x, x2))\n",
        "#c/\n",
        "chuan_F = np.linalg.norm(R, 'fro')\n",
        "print(\"\\nc/\")\n",
        "print(\"chuẩn Frobenius của R =\", round(chuan_F, 3))\n"
      ],
      "metadata": {
        "colab": {
          "base_uri": "https://localhost:8080/"
        },
        "id": "q9mhiO0HJdQq",
        "outputId": "d8749753-87bd-4810-d1e0-c994a32bb1ff"
      },
      "execution_count": 22,
      "outputs": [
        {
          "output_type": "stream",
          "name": "stdout",
          "text": [
            "a/\n",
            "nghiệm của hệ phương trình x =\n",
            "[2.788 1.529 1.188]\n",
            "\n",
            "b/\n",
            "ma trận R khả nghịch, nghịch đảo của R là:\n",
            "[[ 0.224  0.106 -0.047]\n",
            " [-0.059  0.235  0.118]\n",
            " [ 0.024 -0.094  0.153]]\n",
            "giải hệ bằng R⁻¹ × b, nghiệm x' =\n",
            "[2.788 1.529 1.188]\n",
            "so sánh với nghiệm ở câu a: True\n",
            "\n",
            "c/\n",
            "chuẩn Frobenius của R = 8.0\n"
          ]
        }
      ]
    }
  ]
}