{
  "nbformat": 4,
  "nbformat_minor": 0,
  "metadata": {
    "colab": {
      "provenance": []
    },
    "kernelspec": {
      "name": "python3",
      "display_name": "Python 3"
    },
    "language_info": {
      "name": "python"
    }
  },
  "cells": [
    {
      "cell_type": "markdown",
      "source": [
        "#Bài tập thực hành"
      ],
      "metadata": {
        "id": "hOaLbJBMAYl_"
      }
    },
    {
      "cell_type": "code",
      "execution_count": 1,
      "metadata": {
        "colab": {
          "base_uri": "https://localhost:8080/"
        },
        "id": "_VAMoASU5QpS",
        "outputId": "af6dda9e-016d-43e9-d2dd-28388b055b92"
      },
      "outputs": [
        {
          "output_type": "stream",
          "name": "stdout",
          "text": [
            "32\n",
            "32\n",
            "32\n"
          ]
        }
      ],
      "source": [
        "#Bài thực hành 1.2\n",
        "import numpy as np\n",
        "a = np.array([1, 2, 3])\n",
        "b = np.array([4, 5, 6])\n",
        "tich = np.inner(a, b)\n",
        "print(tich)\n",
        "print(np.inner(a, b))\n",
        "print(np.dot(a, b))\n"
      ]
    },
    {
      "cell_type": "code",
      "source": [
        "#Bài thực hành 3.1\n",
        "#Tính trạng thái sau 100 tuần\n",
        "import numpy as np\n",
        "A = np.array([[0.998, 0.136],\n",
        "              [0.002, 0.864]])\n",
        "v0 = np.array([[0.95],\n",
        "               [0.05]])\n",
        "A_power = np.linalg.matrix_power(A, 100)\n",
        "v100 = np.dot(A_power, v0)\n",
        "print(\"\\nvector sau 100 tuần:\")\n",
        "print(v100)\n",
        "\n",
        "#Trạng thái cân bằng (Markov)\n",
        "A = np.array([[-0.002, 0.136],\n",
        "              [1, 1]])\n",
        "b = np.array([0, 1])\n",
        "nghiem = np.linalg.solve(A, b)\n",
        "print(\"\\nnghiệm hệ phương trình (x, y):\")\n",
        "print(nghiem)\n",
        "\n",
        "#Giải hệ bằng sympy\n",
        "import sympy as sym\n",
        "x, y = sym.symbols('x y')\n",
        "xy = sym.Matrix([x, y])\n",
        "A = sym.Matrix([[-0.002, 0.136],\n",
        "                [1, 1]])\n",
        "b = sym.Matrix([0, 1])\n",
        "nghiem = sym.solve((A * xy) - b, (x, y))\n",
        "print(\"\\nnghiệm hệ phương trình là:\")\n",
        "print(sym.pretty(nghiem))\n"
      ],
      "metadata": {
        "colab": {
          "base_uri": "https://localhost:8080/"
        },
        "id": "6S3wa0Fw6ygY",
        "outputId": "c0f8e938-0720-4055-fb6a-02ddc49e763e"
      },
      "execution_count": 3,
      "outputs": [
        {
          "output_type": "stream",
          "name": "stdout",
          "text": [
            "\n",
            "vector sau 100 tuần:\n",
            "[[0.98550723]\n",
            " [0.01449277]]\n",
            "\n",
            "nghiệm hệ phương trình (x, y):\n",
            "[0.98550725 0.01449275]\n",
            "\n",
            "nghiệm hệ phương trình là:\n",
            "{x: 0.985507246376812, y: 0.0144927536231884}\n"
          ]
        }
      ]
    },
    {
      "cell_type": "code",
      "source": [
        "#Bài thực hành 3.2\n",
        "#Kiểm tra vector riêng cho ma trận A đã cho\n",
        "import numpy as np\n",
        "A = np.array([[1, 5], [6, 2]])\n",
        "u = np.array([[6], [-5]])\n",
        "tich = np.dot(A, u)\n",
        "print(\"Au = \")\n",
        "print(tich)\n",
        "print(\"\\n(-4)u = \")\n",
        "print(-4 * u)\n",
        "\n",
        "#Ví dụ tính giá trị riêng của ma trận bằng sympy\n",
        "import sympy as sym\n",
        "x, y, Lambda = sym.symbols('x y Lambda')\n",
        "I = sym.eye(2)\n",
        "A = sym.Matrix([[2, 3], [3, -6]])\n",
        "phuongtrinh = sym.Eq(sym.det(Lambda * I - A), 0)\n",
        "nghiem = sym.solve(phuongtrinh)\n",
        "print(\"\\ncác trị riêng là:\")\n",
        "print([sym.N(phantu, 4) for phantu in nghiem])\n",
        "print(sym.pretty(nghiem))\n"
      ],
      "metadata": {
        "colab": {
          "base_uri": "https://localhost:8080/"
        },
        "id": "PVR42sUD8l8u",
        "outputId": "de330e22-d732-4b06-f0e3-640eefa7ddb3"
      },
      "execution_count": 5,
      "outputs": [
        {
          "output_type": "stream",
          "name": "stdout",
          "text": [
            "Au = \n",
            "[[-19]\n",
            " [ 26]]\n",
            "\n",
            "(-4)u = \n",
            "[[-24]\n",
            " [ 20]]\n",
            "\n",
            "các trị riêng là:\n",
            "[-7.000, 3.000]\n",
            "[-7, 3]\n"
          ]
        }
      ]
    },
    {
      "cell_type": "code",
      "source": [
        "#Bài tập 3.3\n",
        "import numpy as np\n",
        "from numpy import linalg as LA\n",
        "A = np.array([[2, 3],\n",
        "              [3, -6]])\n",
        "print(\"Ma trận A:\")\n",
        "print(A)\n",
        "D = np.array([[-7, 0],\n",
        "              [0, 3]])\n",
        "print(\"\\nMa trận đường chéo D:\")\n",
        "print(D)\n",
        "P = np.array([[-1/3, 3],\n",
        "              [1,    1]])\n",
        "print(\"\\nMa trận P (vector riêng làm cột):\")\n",
        "print(P)\n",
        "P_inv = LA.inv(P)\n",
        "print(\"\\nMa trận nghịch đảo P⁻¹:\")\n",
        "print(P_inv)\n",
        "print(\"\\nTích A.dot(P):\")\n",
        "print(A.dot(P))\n",
        "print(\"\\nTích P.dot(D):\")\n",
        "print(P.dot(D))\n",
        "A_pow_1000 = P @ (D ** 1000) @ P_inv\n",
        "print(\"\\nMa trận A^1000:\")\n",
        "print(A_pow_1000)\n",
        "print(\"\\nMa trận D^2:\")\n",
        "print(D ** 2)\n",
        "\n"
      ],
      "metadata": {
        "colab": {
          "base_uri": "https://localhost:8080/"
        },
        "id": "nh6Hr7HB-YIN",
        "outputId": "6cd20f4c-8f6c-4a98-d392-1c73f5328818"
      },
      "execution_count": 6,
      "outputs": [
        {
          "output_type": "stream",
          "name": "stdout",
          "text": [
            "Ma trận A:\n",
            "[[ 2  3]\n",
            " [ 3 -6]]\n",
            "\n",
            "Ma trận đường chéo D:\n",
            "[[-7  0]\n",
            " [ 0  3]]\n",
            "\n",
            "Ma trận P (vector riêng làm cột):\n",
            "[[-0.33333333  3.        ]\n",
            " [ 1.          1.        ]]\n",
            "\n",
            "Ma trận nghịch đảo P⁻¹:\n",
            "[[-0.3  0.9]\n",
            " [ 0.3  0.1]]\n",
            "\n",
            "Tích A.dot(P):\n",
            "[[ 2.33333333  9.        ]\n",
            " [-7.          3.        ]]\n",
            "\n",
            "Tích P.dot(D):\n",
            "[[ 2.33333333  9.        ]\n",
            " [-7.          3.        ]]\n",
            "\n",
            "Ma trận A^1000:\n",
            "[[ 5.03503397e+18  3.50482117e+18]\n",
            " [ 3.50482117e+18 -4.31115581e+18]]\n",
            "\n",
            "Ma trận D^2:\n",
            "[[49  0]\n",
            " [ 0  9]]\n"
          ]
        }
      ]
    },
    {
      "cell_type": "markdown",
      "source": [
        "#Bài tập về nhà"
      ],
      "metadata": {
        "id": "XePxmKPEAVuP"
      }
    },
    {
      "cell_type": "code",
      "source": [
        "#Bài 1\n",
        "import numpy as np\n",
        "import math\n",
        "a = np.array([1, 2, 3])\n",
        "#a/ mag = np.sqrt(a.dot(a))\n",
        "mag = np.sqrt(a.dot(a))\n",
        "print(\"a:\", mag)\n",
        "\n",
        "#b/ mag = np.sqrt(a @ a)\n",
        "mag = np.sqrt(a @ a)\n",
        "print(\"b:\", mag)\n",
        "\n",
        "#c/ mag = np.sqrt(np.inner(a, a))\n",
        "mag = np.sqrt(np.inner(a, a))\n",
        "print(\"c:\", mag)\n",
        "\n",
        "#d. Dùng lambda và math.sqrt\n",
        "mag = lambda x: math.sqrt(sum(i**2 for i in x))\n",
        "print(\"d:\", mag(a))\n",
        "\n",
        "print(\"Cả 4 đáp án đều đúng\")"
      ],
      "metadata": {
        "colab": {
          "base_uri": "https://localhost:8080/"
        },
        "id": "UfheatceAb3U",
        "outputId": "67d0123d-9794-4ff1-d788-52d8016e78be"
      },
      "execution_count": 7,
      "outputs": [
        {
          "output_type": "stream",
          "name": "stdout",
          "text": [
            "a: 3.7416573867739413\n",
            "b: 3.7416573867739413\n",
            "c: 3.7416573867739413\n",
            "d: 3.7416573867739413\n",
            "Cả 4 đáp án đều đúng\n"
          ]
        }
      ]
    },
    {
      "cell_type": "code",
      "source": [
        "#Bài tập 2\n",
        "import numpy as np\n",
        "import math\n",
        "u = np.array(list(map(float, input(\"Nhập vector u: \").split())))\n",
        "v = np.array(list(map(float, input(\"Nhập vector v: \").split())))\n",
        "\n",
        "#a/ Tính khoảng cách ||u - v||\n",
        "distance = np.linalg.norm(u - v)\n",
        "print(\"\\nkhoảng cách giữa u và v:\", distance)\n",
        "\n",
        "#b/ Tính góc θ giữa u và v\n",
        "dot_product = np.dot(u, v)\n",
        "norm_u = np.linalg.norm(u)\n",
        "norm_v = np.linalg.norm(v)\n",
        "cos_theta = dot_product / (norm_u * norm_v)\n",
        "cos_theta = np.clip(cos_theta, -1, 1)\n",
        "theta_rad = np.arccos(cos_theta)\n",
        "theta_deg = np.degrees(theta_rad)\n",
        "print(\"góc giữa u và v (radian):\", theta_rad)\n",
        "print(\"góc giữa u và v (độ):\", theta_deg)\n",
        "\n",
        "#c/ Phép chiếu trực giao của u lên v\n",
        "proj_scalar = np.dot(u, v) / np.dot(v, v)\n",
        "projection = proj_scalar * v\n",
        "print(\"\\nphép chiếu trực giao của u lên v:\", projection)\n"
      ],
      "metadata": {
        "colab": {
          "base_uri": "https://localhost:8080/"
        },
        "id": "0aViH6rCCp9f",
        "outputId": "917e9f40-750c-4863-f444-40546f48089f"
      },
      "execution_count": 9,
      "outputs": [
        {
          "output_type": "stream",
          "name": "stdout",
          "text": [
            "Nhập vector u: 1 2 3\n",
            "Nhập vector v: 4 5 6\n",
            "\n",
            "khoảng cách giữa u và v: 5.196152422706632\n",
            "góc giữa u và v (radian): 0.2257261285527342\n",
            "góc giữa u và v (độ): 12.933154491899135\n",
            "\n",
            "phép chiếu trực giao của u lên v: [1.66233766 2.07792208 2.49350649]\n"
          ]
        }
      ]
    }
  ]
}